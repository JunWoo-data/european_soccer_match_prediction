{
 "cells": [
  {
   "cell_type": "code",
   "execution_count": 1,
   "metadata": {},
   "outputs": [],
   "source": [
    "import pandas as pd \n",
    "import numpy as np  \n",
    "\n",
    "import matplotlib.pyplot as plt \n",
    "import seaborn as sns \n",
    "\n",
    "import sqlite3 as sql \n",
    "import requests\n",
    "import csv \n",
    "from datetime import datetime, timedelta"
   ]
  },
  {
   "cell_type": "code",
   "execution_count": 2,
   "metadata": {},
   "outputs": [],
   "source": [
    "import warnings\n",
    "warnings.filterwarnings('ignore')"
   ]
  },
  {
   "cell_type": "code",
   "execution_count": 3,
   "metadata": {},
   "outputs": [],
   "source": [
    "pd.set_option('display.max_columns', None)"
   ]
  },
  {
   "attachments": {},
   "cell_type": "markdown",
   "metadata": {},
   "source": [
    "# Elo rating"
   ]
  },
  {
   "attachments": {},
   "cell_type": "markdown",
   "metadata": {},
   "source": [
    "- The World Football Elo Ratings are a ranking system for men's national association football teams that is published by the website eloratings.net. It is based on the Elo rating system but includes modifications to take various football-specific variables into account, like the margin of victory, importance of a match, and home field advantage. Other implementations of the Elo rating system are possible and there is no single nor any official Elo ranking for football teams. (https://en.wikipedia.org/wiki/World_Football_Elo_Ratings#cite_note-Laesk_et._al.-1)\n",
    "- Since being developed, the Elo rankings have been found to have the highest predictive capability for football matches. (J. Lasek, Z. Szlávik and S. Bhulai (2013), The predictive power of ranking systems in association football, Archived 26 July 2014 at the Wayback Machine, Int. J. Applied Pattern Recognition1: 27–46.)\n",
    "- The Elo system with a few modifications (home field advantage, goal difference, inter-league adjustments) is used to determine the club's Elo values. \n",
    "- So let's use the Elo rating for soccer club to predict the match results."
   ]
  },
  {
   "attachments": {},
   "cell_type": "markdown",
   "metadata": {},
   "source": [
    "## 1. Get the Elo rating data"
   ]
  },
  {
   "attachments": {},
   "cell_type": "markdown",
   "metadata": {},
   "source": [
    "- Let's get the Elo rating information by the API request from the ClubELO website. (http://clubelo.com/API)\n",
    "- Since we want to know the Elo rating before every match date, we request the Elo rating of the day before every match date."
   ]
  },
  {
   "cell_type": "code",
   "execution_count": 4,
   "metadata": {},
   "outputs": [],
   "source": [
    "df_match_basic = pd.read_csv(\"../data/df_match_basic.csv\")"
   ]
  },
  {
   "cell_type": "code",
   "execution_count": 5,
   "metadata": {},
   "outputs": [],
   "source": [
    "df_team = pd.read_csv(\"../data/df_team.csv\")"
   ]
  },
  {
   "cell_type": "code",
   "execution_count": 6,
   "metadata": {},
   "outputs": [],
   "source": [
    "elo_target_date = (pd.to_datetime(df_match_basic.match_date.unique()) - timedelta(days = 1)).strftime(\"%Y-%m-%d\")"
   ]
  },
  {
   "cell_type": "code",
   "execution_count": 7,
   "metadata": {},
   "outputs": [],
   "source": [
    "elo_rating = pd.DataFrame(columns = [\"Rank\", \"Club\", \"Country\", \"Level\", \"Elo\", \"From\", \"To\", \"elo_target_date\", \"match_date\"])"
   ]
  },
  {
   "cell_type": "code",
   "execution_count": 8,
   "metadata": {},
   "outputs": [],
   "source": [
    "for target_date in elo_target_date:\n",
    "    api_url = f\"http://api.clubelo.com/{target_date}\"\n",
    "    \n",
    "    response = requests.get(api_url)\n",
    "    decoded_content = response.content.decode(\"utf-8\")\n",
    "    cr = csv.reader(decoded_content.splitlines(), delimiter = \",\")\n",
    "    \n",
    "    my_list = list(cr)\n",
    "    \n",
    "    target_date_elo_rating = pd.DataFrame(my_list[1:], columns = my_list[0])\n",
    "    target_date_elo_rating[\"elo_target_date\"] = target_date\n",
    "    target_date_elo_rating[\"match_date\"] = (pd.to_datetime(target_date) + timedelta(days = 1)).strftime(\"%Y-%m-%d\")\n",
    "    \n",
    "    elo_rating = pd.concat([elo_rating, target_date_elo_rating])"
   ]
  },
  {
   "cell_type": "code",
   "execution_count": 9,
   "metadata": {},
   "outputs": [],
   "source": [
    "elo_rating = elo_rating[~elo_rating.Club.isna()]"
   ]
  },
  {
   "attachments": {},
   "cell_type": "markdown",
   "metadata": {},
   "source": [
    "- Since team names from the elo rating are different with our data's club names, let's match the club names."
   ]
  },
  {
   "cell_type": "code",
   "execution_count": 10,
   "metadata": {},
   "outputs": [],
   "source": [
    "## England Premier League\n",
    "\n",
    "elo_rating.loc[(elo_rating.Country == \"ENG\") & (elo_rating.Club == \"Arsenal\"), \"team_api_id\"] = 9825\n",
    "elo_rating.loc[(elo_rating.Country == \"ENG\") & (elo_rating.Club == \"Aston Villa\"), \"team_api_id\"] = 10252\n",
    "elo_rating.loc[(elo_rating.Country == \"ENG\") & (elo_rating.Club == \"Birmingham\"), \"team_api_id\"] = 8658\n",
    "elo_rating.loc[(elo_rating.Country == \"ENG\") & (elo_rating.Club == \"Blackburn\"), \"team_api_id\"] = 8655\n",
    "elo_rating.loc[(elo_rating.Country == \"ENG\") & (elo_rating.Club == \"Blackpool\"), \"team_api_id\"] = 8483\n",
    "elo_rating.loc[(elo_rating.Country == \"ENG\") & (elo_rating.Club == \"Bolton\"), \"team_api_id\"] = 8559\n",
    "elo_rating.loc[(elo_rating.Country == \"ENG\") & (elo_rating.Club == \"Bournemouth\"), \"team_api_id\"] = 8678\n",
    "elo_rating.loc[(elo_rating.Country == \"ENG\") & (elo_rating.Club == \"Burnley\"), \"team_api_id\"] = 8191\n",
    "elo_rating.loc[(elo_rating.Country == \"ENG\") & (elo_rating.Club == \"Cardiff\"), \"team_api_id\"] = 8344\n",
    "elo_rating.loc[(elo_rating.Country == \"ENG\") & (elo_rating.Club == \"Chelsea\"), \"team_api_id\"] = 8455\n",
    "elo_rating.loc[(elo_rating.Country == \"ENG\") & (elo_rating.Club == \"Crystal Palace\"), \"team_api_id\"] = 9826\n",
    "elo_rating.loc[(elo_rating.Country == \"ENG\") & (elo_rating.Club == \"Everton\"), \"team_api_id\"] = 8668\n",
    "elo_rating.loc[(elo_rating.Country == \"ENG\") & (elo_rating.Club == \"Fulham\"), \"team_api_id\"] = 9879\n",
    "elo_rating.loc[(elo_rating.Country == \"ENG\") & (elo_rating.Club == \"Hull\"), \"team_api_id\"] = 8667\n",
    "elo_rating.loc[(elo_rating.Country == \"ENG\") & (elo_rating.Club == \"Leicester\"), \"team_api_id\"] = 8197\n",
    "elo_rating.loc[(elo_rating.Country == \"ENG\") & (elo_rating.Club == \"Liverpool\"), \"team_api_id\"] = 8650\n",
    "elo_rating.loc[(elo_rating.Country == \"ENG\") & (elo_rating.Club == \"Man City\"), \"team_api_id\"] = 8456\n",
    "elo_rating.loc[(elo_rating.Country == \"ENG\") & (elo_rating.Club == \"Man United\"), \"team_api_id\"] = 10260\n",
    "elo_rating.loc[(elo_rating.Country == \"ENG\") & (elo_rating.Club == \"Middlesbrough\"), \"team_api_id\"] = 8549\n",
    "elo_rating.loc[(elo_rating.Country == \"ENG\") & (elo_rating.Club == \"Newcastle\"), \"team_api_id\"] = 10261\n",
    "elo_rating.loc[(elo_rating.Country == \"ENG\") & (elo_rating.Club == \"Norwich\"), \"team_api_id\"] = 9850\n",
    "elo_rating.loc[(elo_rating.Country == \"ENG\") & (elo_rating.Club == \"Portsmouth\"), \"team_api_id\"] = 8462\n",
    "elo_rating.loc[(elo_rating.Country == \"ENG\") & (elo_rating.Club == \"QPR\"), \"team_api_id\"] = 10172\n",
    "elo_rating.loc[(elo_rating.Country == \"ENG\") & (elo_rating.Club == \"Reading\"), \"team_api_id\"] = 9798\n",
    "elo_rating.loc[(elo_rating.Country == \"ENG\") & (elo_rating.Club == \"Southampton\"), \"team_api_id\"] = 8466\n",
    "elo_rating.loc[(elo_rating.Country == \"ENG\") & (elo_rating.Club == \"Stoke\"), \"team_api_id\"] = 10194\n",
    "elo_rating.loc[(elo_rating.Country == \"ENG\") & (elo_rating.Club == \"Sunderland\"), \"team_api_id\"] = 8472\n",
    "elo_rating.loc[(elo_rating.Country == \"ENG\") & (elo_rating.Club == \"Swansea\"), \"team_api_id\"] = 10003\n",
    "elo_rating.loc[(elo_rating.Country == \"ENG\") & (elo_rating.Club == \"Tottenham\"), \"team_api_id\"] = 8586\n",
    "elo_rating.loc[(elo_rating.Country == \"ENG\") & (elo_rating.Club == \"Watford\"), \"team_api_id\"] = 9817\n",
    "elo_rating.loc[(elo_rating.Country == \"ENG\") & (elo_rating.Club == \"West Brom\"), \"team_api_id\"] = 8659\n",
    "elo_rating.loc[(elo_rating.Country == \"ENG\") & (elo_rating.Club == \"West Ham\"), \"team_api_id\"] = 8654\n",
    "elo_rating.loc[(elo_rating.Country == \"ENG\") & (elo_rating.Club == \"Wigan\"), \"team_api_id\"] = 8528\n",
    "elo_rating.loc[(elo_rating.Country == \"ENG\") & (elo_rating.Club == \"Wolves\"), \"team_api_id\"] = 8602"
   ]
  },
  {
   "cell_type": "code",
   "execution_count": 11,
   "metadata": {},
   "outputs": [],
   "source": [
    "## Germany 1. Bundesliga\n",
    "\n",
    "elo_rating.loc[(elo_rating.Country == \"GER\") & (elo_rating.Club == \"Koeln\"), \"team_api_id\"] = 8722\n",
    "elo_rating.loc[(elo_rating.Country == \"GER\") & (elo_rating.Club == \"Nuernberg\"), \"team_api_id\"] = 8165\n",
    "elo_rating.loc[(elo_rating.Country == \"GER\") & (elo_rating.Club == \"Mainz\"), \"team_api_id\"] = 9905\n",
    "elo_rating.loc[(elo_rating.Country == \"GER\") & (elo_rating.Club == \"Leverkusen\"), \"team_api_id\"] = 8178\n",
    "elo_rating.loc[(elo_rating.Country == \"GER\") & (elo_rating.Club == \"Dortmund\"), \"team_api_id\"] = 9789\n",
    "elo_rating.loc[(elo_rating.Country == \"GER\") & (elo_rating.Club == \"Bielefeld\"), \"team_api_id\"] = 9912\n",
    "elo_rating.loc[(elo_rating.Country == \"GER\") & (elo_rating.Club == \"Braunschweig\"), \"team_api_id\"] = 9776\n",
    "elo_rating.loc[(elo_rating.Country == \"GER\") & (elo_rating.Club == \"Frankfurt\"), \"team_api_id\"] = 9810\n",
    "elo_rating.loc[(elo_rating.Country == \"GER\") & (elo_rating.Club == \"Augsburg\"), \"team_api_id\"] = 8406\n",
    "elo_rating.loc[(elo_rating.Country == \"GER\") & (elo_rating.Club == \"Bayern\"), \"team_api_id\"] = 9823\n",
    "elo_rating.loc[(elo_rating.Country == \"GER\") & (elo_rating.Club == \"Cottbus\"), \"team_api_id\"] = 8398\n",
    "elo_rating.loc[(elo_rating.Country == \"GER\") & (elo_rating.Club == \"Ingolstadt\"), \"team_api_id\"] = 8234\n",
    "elo_rating.loc[(elo_rating.Country == \"GER\") & (elo_rating.Club == \"Schalke\"), \"team_api_id\"] = 10189\n",
    "elo_rating.loc[(elo_rating.Country == \"GER\") & (elo_rating.Club == \"St Pauli\"), \"team_api_id\"] = 8152\n",
    "elo_rating.loc[(elo_rating.Country == \"GER\") & (elo_rating.Club == \"Duesseldorf\"), \"team_api_id\"] = 8194\n",
    "elo_rating.loc[(elo_rating.Country == \"GER\") & (elo_rating.Club == \"Hamburg\"), \"team_api_id\"] = 9790\n",
    "elo_rating.loc[(elo_rating.Country == \"GER\") & (elo_rating.Club == \"Hannover\"), \"team_api_id\"] = 9904\n",
    "elo_rating.loc[(elo_rating.Country == \"GER\") & (elo_rating.Club == \"Hertha\"), \"team_api_id\"] = 8177\n",
    "elo_rating.loc[(elo_rating.Country == \"GER\") & (elo_rating.Club == \"Karlsruhe\"), \"team_api_id\"] = 8295\n",
    "elo_rating.loc[(elo_rating.Country == \"GER\") & (elo_rating.Club == \"Freiburg\"), \"team_api_id\"] = 8358\n",
    "elo_rating.loc[(elo_rating.Country == \"GER\") & (elo_rating.Club == \"Paderborn\"), \"team_api_id\"] = 8460\n",
    "elo_rating.loc[(elo_rating.Country == \"GER\") & (elo_rating.Club == \"Darmstadt\"), \"team_api_id\"] = 8262\n",
    "elo_rating.loc[(elo_rating.Country == \"GER\") & (elo_rating.Club == \"Werder\"), \"team_api_id\"] = 8697\n",
    "elo_rating.loc[(elo_rating.Country == \"GER\") & (elo_rating.Club == \"Fuerth\"), \"team_api_id\"] = 8357\n",
    "elo_rating.loc[(elo_rating.Country == \"GER\") & (elo_rating.Club == \"Hoffenheim\"), \"team_api_id\"] = 8226\n",
    "elo_rating.loc[(elo_rating.Country == \"GER\") & (elo_rating.Club == \"Stuttgart\"), \"team_api_id\"] = 10269\n",
    "elo_rating.loc[(elo_rating.Country == \"GER\") & (elo_rating.Club == \"Bochum\"), \"team_api_id\"] = 9911\n",
    "elo_rating.loc[(elo_rating.Country == \"GER\") & (elo_rating.Club == \"Wolfsburg\"), \"team_api_id\"] = 8721\n",
    "elo_rating.loc[(elo_rating.Country == \"GER\") & (elo_rating.Club == \"Gladbach\"), \"team_api_id\"] = 9788\n",
    "elo_rating.loc[(elo_rating.Country == \"GER\") & (elo_rating.Club == \"Lautern\"), \"team_api_id\"] = 8350"
   ]
  },
  {
   "cell_type": "code",
   "execution_count": 12,
   "metadata": {},
   "outputs": [],
   "source": [
    "## Poland Ekstraklasa\n",
    "\n",
    "elo_rating.loc[(elo_rating.Country == \"POL\") & (elo_rating.Club == \"Arka\"), \"team_api_id\"] = 8322\n",
    "elo_rating.loc[(elo_rating.Country == \"POL\") & (elo_rating.Club == \"Cracovia\"), \"team_api_id\"] = 2186\n",
    "elo_rating.loc[(elo_rating.Country == \"POL\") & (elo_rating.Club == \"Belchatow\"), \"team_api_id\"] = 8569\n",
    "elo_rating.loc[(elo_rating.Country == \"POL\") & (elo_rating.Club == \"Gornik\"), \"team_api_id\"] = 8019\n",
    "elo_rating.loc[(elo_rating.Country == \"POL\") & (elo_rating.Club == \"Jagiellonia\"), \"team_api_id\"] = 1957\n",
    "elo_rating.loc[(elo_rating.Country == \"POL\") & (elo_rating.Club == \"Korona\"), \"team_api_id\"] = 8245\n",
    "elo_rating.loc[(elo_rating.Country == \"POL\") & (elo_rating.Club == \"Lech\"), \"team_api_id\"] = 2182\n",
    "elo_rating.loc[(elo_rating.Country == \"POL\") & (elo_rating.Club == \"Lechia\"), \"team_api_id\"] = 8030\n",
    "elo_rating.loc[(elo_rating.Country == \"POL\") & (elo_rating.Club == \"Legia\"), \"team_api_id\"] = 8673\n",
    "elo_rating.loc[(elo_rating.Country == \"POL\") & (elo_rating.Club == \"Odra Wodzislaw\"), \"team_api_id\"] = 8242\n",
    "elo_rating.loc[(elo_rating.Country == \"POL\") & (elo_rating.Club == \"Polonia Warszawa\"), \"team_api_id\"] = 2183\n",
    "elo_rating.loc[(elo_rating.Country == \"POL\") & (elo_rating.Club == \"Piast Gliwice\"), \"team_api_id\"] = 8028\n",
    "elo_rating.loc[(elo_rating.Country == \"POL\") & (elo_rating.Club == \"Podbeskidzie\"), \"team_api_id\"] = 8033\n",
    "elo_rating.loc[(elo_rating.Country == \"POL\") & (elo_rating.Club == \"Pogon\"), \"team_api_id\"] = 8023\n",
    "elo_rating.loc[(elo_rating.Country == \"POL\") & (elo_rating.Club == \"Bytom\"), \"team_api_id\"] = 8020\n",
    "elo_rating.loc[(elo_rating.Country == \"POL\") & (elo_rating.Club == \"Ruch\"), \"team_api_id\"] = 1601\n",
    "elo_rating.loc[(elo_rating.Country == \"POL\") & (elo_rating.Club == \"Widzew\"), \"team_api_id\"] = 8024\n",
    "elo_rating.loc[(elo_rating.Country == \"POL\") & (elo_rating.Club == \"Wisla\"), \"team_api_id\"] = 10265\n",
    "elo_rating.loc[(elo_rating.Country == \"POL\") & (elo_rating.Club == \"Lubin\"), \"team_api_id\"] = 8021\n",
    "elo_rating.loc[(elo_rating.Country == \"POL\") & (elo_rating.Club == \"Zawisza\"), \"team_api_id\"] = 8027\n",
    "elo_rating.loc[(elo_rating.Country == \"POL\") & (elo_rating.Club == \"Slask\"), \"team_api_id\"] = 8025"
   ]
  },
  {
   "cell_type": "code",
   "execution_count": 13,
   "metadata": {},
   "outputs": [],
   "source": [
    "## Belgium Jupiler League\n",
    "\n",
    "elo_rating.loc[(elo_rating.Country == \"BEL\") & (elo_rating.Club == \"Beerschot AC\"), \"team_api_id\"] = 9993\n",
    "elo_rating.loc[(elo_rating.Country == \"BEL\") & (elo_rating.Club == \"Brugge\"), \"team_api_id\"] = 8342\n",
    "elo_rating.loc[(elo_rating.Country == \"BEL\") & (elo_rating.Club == \"Gent\"), \"team_api_id\"] = 9991\n",
    "elo_rating.loc[(elo_rating.Country == \"BEL\") & (elo_rating.Club == \"Eupen\"), \"team_api_id\"] = 6351\n",
    "elo_rating.loc[(elo_rating.Country == \"BEL\") & (elo_rating.Club == \"Genk\"), \"team_api_id\"] = 9987\n",
    "elo_rating.loc[(elo_rating.Country == \"BEL\") & (elo_rating.Club == \"Cercle Brugge\"), \"team_api_id\"] = 9984\n",
    "elo_rating.loc[(elo_rating.Country == \"BEL\") & (elo_rating.Club == \"Roeselare\"), \"team_api_id\"] = 9999\n",
    "elo_rating.loc[(elo_rating.Country == \"BEL\") & (elo_rating.Club == \"Kortrijk\"), \"team_api_id\"] = 8571\n",
    "elo_rating.loc[(elo_rating.Country == \"BEL\") & (elo_rating.Club == \"Mechelen\"), \"team_api_id\"] = 8203\n",
    "elo_rating.loc[(elo_rating.Country == \"BEL\") & (elo_rating.Club == \"Oostende\"), \"team_api_id\"] = 8573\n",
    "elo_rating.loc[(elo_rating.Country == \"BEL\") & (elo_rating.Club == \"Westerlo\"), \"team_api_id\"] = 10001\n",
    "elo_rating.loc[(elo_rating.Country == \"BEL\") & (elo_rating.Club == \"Lierse\"), \"team_api_id\"] = 9989\n",
    "elo_rating.loc[(elo_rating.Country == \"BEL\") & (elo_rating.Club == \"Leuven\"), \"team_api_id\"] = 1773\n",
    "elo_rating.loc[(elo_rating.Country == \"BEL\") & (elo_rating.Club == \"Anderlecht\"), \"team_api_id\"] = 8635\n",
    "elo_rating.loc[(elo_rating.Country == \"BEL\") & (elo_rating.Club == \"Mouscron\"), \"team_api_id\"] = 9996\n",
    "elo_rating.loc[(elo_rating.Country == \"BEL\") & (elo_rating.Club == \"Zulte Waregem\"), \"team_api_id\"] = 10000\n",
    "elo_rating.loc[(elo_rating.Country == \"BEL\") & (elo_rating.Club == \"St Truiden\"), \"team_api_id\"] = 9997\n",
    "elo_rating.loc[(elo_rating.Country == \"BEL\") & (elo_rating.Club == \"Charleroi\"), \"team_api_id\"] = 9986\n",
    "elo_rating.loc[(elo_rating.Country == \"BEL\") & (elo_rating.Club == \"Lokeren\"), \"team_api_id\"] = 9994\n",
    "elo_rating.loc[(elo_rating.Country == \"BEL\") & (elo_rating.Club == \"Standard\"), \"team_api_id\"] = 9985\n",
    "elo_rating.loc[(elo_rating.Country == \"BEL\") & (elo_rating.Club == \"Beveren\"), \"team_api_id\"] = 8475\n",
    "elo_rating.loc[(elo_rating.Country == \"BEL\") & (elo_rating.Club == \"Bergen\"), \"team_api_id\"] = 9998"
   ]
  },
  {
   "cell_type": "code",
   "execution_count": 14,
   "metadata": {},
   "outputs": [],
   "source": [
    "## Spain LIGA BBVA\n",
    "\n",
    "elo_rating.loc[(elo_rating.Country == \"ESP\") & (elo_rating.Club == \"Bilbao\"), \"team_api_id\"] = 8315\n",
    "elo_rating.loc[(elo_rating.Country == \"ESP\") & (elo_rating.Club == \"Atletico\"), \"team_api_id\"] = 9906\n",
    "elo_rating.loc[(elo_rating.Country == \"ESP\") & (elo_rating.Club == \"Osasuna\"), \"team_api_id\"] = 8371\n",
    "elo_rating.loc[(elo_rating.Country == \"ESP\") & (elo_rating.Club == \"Numancia\"), \"team_api_id\"] = 8388\n",
    "elo_rating.loc[(elo_rating.Country == \"ESP\") & (elo_rating.Club == \"Tenerife\"), \"team_api_id\"] = 9867\n",
    "elo_rating.loc[(elo_rating.Country == \"ESP\") & (elo_rating.Club == \"Cordoba\"), \"team_api_id\"] = 7869\n",
    "elo_rating.loc[(elo_rating.Country == \"ESP\") & (elo_rating.Club == \"Elche\"), \"team_api_id\"] = 10268\n",
    "elo_rating.loc[(elo_rating.Country == \"ESP\") & (elo_rating.Club == \"Barcelona\"), \"team_api_id\"] = 8634\n",
    "elo_rating.loc[(elo_rating.Country == \"ESP\") & (elo_rating.Club == \"Getafe\"), \"team_api_id\"] = 8305\n",
    "elo_rating.loc[(elo_rating.Country == \"ESP\") & (elo_rating.Club == \"Granada\"), \"team_api_id\"] = 7878\n",
    "elo_rating.loc[(elo_rating.Country == \"ESP\") & (elo_rating.Club == \"Hercules\"), \"team_api_id\"] = 10278\n",
    "elo_rating.loc[(elo_rating.Country == \"ESP\") & (elo_rating.Club == \"Levante\"), \"team_api_id\"] = 8581\n",
    "elo_rating.loc[(elo_rating.Country == \"ESP\") & (elo_rating.Club == \"Malaga\"), \"team_api_id\"] = 9864\n",
    "elo_rating.loc[(elo_rating.Country == \"ESP\") & (elo_rating.Club == \"Celta\"), \"team_api_id\"] = 9910\n",
    "elo_rating.loc[(elo_rating.Country == \"ESP\") & (elo_rating.Club == \"Depor\"), \"team_api_id\"] = 9783\n",
    "elo_rating.loc[(elo_rating.Country == \"ESP\") & (elo_rating.Club == \"Recreativo\"), \"team_api_id\"] = 8479\n",
    "elo_rating.loc[(elo_rating.Country == \"ESP\") & (elo_rating.Club == \"Espanyol\"), \"team_api_id\"] = 8558\n",
    "elo_rating.loc[(elo_rating.Country == \"ESP\") & (elo_rating.Club == \"Mallorca\"), \"team_api_id\"] = 8661\n",
    "elo_rating.loc[(elo_rating.Country == \"ESP\") & (elo_rating.Club == \"Santander\"), \"team_api_id\"] = 8696\n",
    "elo_rating.loc[(elo_rating.Country == \"ESP\") & (elo_rating.Club == \"Rayo Vallecano\"), \"team_api_id\"] = 8370\n",
    "elo_rating.loc[(elo_rating.Country == \"ESP\") & (elo_rating.Club == \"Betis\"), \"team_api_id\"] = 8603\n",
    "elo_rating.loc[(elo_rating.Country == \"ESP\") & (elo_rating.Club == \"Real Madrid\"), \"team_api_id\"] = 8633\n",
    "elo_rating.loc[(elo_rating.Country == \"ESP\") & (elo_rating.Club == \"Sociedad\"), \"team_api_id\"] = 8560\n",
    "elo_rating.loc[(elo_rating.Country == \"ESP\") & (elo_rating.Club == \"Gijon\"), \"team_api_id\"] = 9869\n",
    "elo_rating.loc[(elo_rating.Country == \"ESP\") & (elo_rating.Club == \"Valladolid\"), \"team_api_id\"] = 10281\n",
    "elo_rating.loc[(elo_rating.Country == \"ESP\") & (elo_rating.Club == \"Zaragoza\"), \"team_api_id\"] = 8394\n",
    "elo_rating.loc[(elo_rating.Country == \"ESP\") & (elo_rating.Club == \"Eibar\"), \"team_api_id\"] = 8372\n",
    "elo_rating.loc[(elo_rating.Country == \"ESP\") & (elo_rating.Club == \"Sevilla\"), \"team_api_id\"] = 8302\n",
    "elo_rating.loc[(elo_rating.Country == \"ESP\") & (elo_rating.Club == \"Almeria\"), \"team_api_id\"] = 9865\n",
    "elo_rating.loc[(elo_rating.Country == \"ESP\") & (elo_rating.Club == \"Las Palmas\"), \"team_api_id\"] = 8306\n",
    "elo_rating.loc[(elo_rating.Country == \"ESP\") & (elo_rating.Club == \"Valencia\"), \"team_api_id\"] = 10267\n",
    "elo_rating.loc[(elo_rating.Country == \"ESP\") & (elo_rating.Club == \"Villarreal\"), \"team_api_id\"] = 10205\n",
    "elo_rating.loc[(elo_rating.Country == \"ESP\") & (elo_rating.Club == \"Xerez\"), \"team_api_id\"] = 9868"
   ]
  },
  {
   "cell_type": "code",
   "execution_count": 15,
   "metadata": {},
   "outputs": [],
   "source": [
    "## Netherlands Eredivisie\n",
    "\n",
    "elo_rating.loc[(elo_rating.Country == \"NED\") & (elo_rating.Club == \"Den Haag\"), \"team_api_id\"] = 10217\n",
    "elo_rating.loc[(elo_rating.Country == \"NED\") & (elo_rating.Club == \"Alkmaar\"), \"team_api_id\"] = 10229\n",
    "elo_rating.loc[(elo_rating.Country == \"NED\") & (elo_rating.Club == \"Ajax\"), \"team_api_id\"] = 8593\n",
    "elo_rating.loc[(elo_rating.Country == \"NED\") & (elo_rating.Club == \"De Graafschap\"), \"team_api_id\"] = 8526\n",
    "elo_rating.loc[(elo_rating.Country == \"NED\") & (elo_rating.Club == \"Excelsior\"), \"team_api_id\"] = 10218\n",
    "elo_rating.loc[(elo_rating.Country == \"NED\") & (elo_rating.Club == \"Dordrecht\"), \"team_api_id\"] = 6631\n",
    "elo_rating.loc[(elo_rating.Country == \"NED\") & (elo_rating.Club == \"Groningen\"), \"team_api_id\"] = 8674\n",
    "elo_rating.loc[(elo_rating.Country == \"NED\") & (elo_rating.Club == \"Twente\"), \"team_api_id\"] = 8611\n",
    "elo_rating.loc[(elo_rating.Country == \"NED\") & (elo_rating.Club == \"Utrecht\"), \"team_api_id\"] = 9908\n",
    "elo_rating.loc[(elo_rating.Country == \"NED\") & (elo_rating.Club == \"Feyenoord\"), \"team_api_id\"] = 10235\n",
    "elo_rating.loc[(elo_rating.Country == \"NED\") & (elo_rating.Club == \"Go Ahead Eagles\"), \"team_api_id\"] = 6433\n",
    "elo_rating.loc[(elo_rating.Country == \"NED\") & (elo_rating.Club == \"Heracles\"), \"team_api_id\"] = 9791\n",
    "elo_rating.loc[(elo_rating.Country == \"NED\") & (elo_rating.Club == \"Nijmegen\"), \"team_api_id\"] = 8464\n",
    "elo_rating.loc[(elo_rating.Country == \"NED\") & (elo_rating.Club == \"Breda\"), \"team_api_id\"] = 9761\n",
    "elo_rating.loc[(elo_rating.Country == \"NED\") & (elo_rating.Club == \"Zwolle\"), \"team_api_id\"] = 6413\n",
    "elo_rating.loc[(elo_rating.Country == \"NED\") & (elo_rating.Club == \"PSV\"), \"team_api_id\"] = 8640\n",
    "elo_rating.loc[(elo_rating.Country == \"NED\") & (elo_rating.Club == \"Waalwijk\"), \"team_api_id\"] = 10219\n",
    "elo_rating.loc[(elo_rating.Country == \"NED\") & (elo_rating.Club == \"Roda\"), \"team_api_id\"] = 9803\n",
    "elo_rating.loc[(elo_rating.Country == \"NED\") & (elo_rating.Club == \"Cambuur\"), \"team_api_id\"] = 7788\n",
    "elo_rating.loc[(elo_rating.Country == \"NED\") & (elo_rating.Club == \"Heerenveen\"), \"team_api_id\"] = 10228\n",
    "elo_rating.loc[(elo_rating.Country == \"NED\") & (elo_rating.Club == \"Sparta Rotterdam\"), \"team_api_id\"] = 8614\n",
    "elo_rating.loc[(elo_rating.Country == \"NED\") & (elo_rating.Club == \"Venlo\"), \"team_api_id\"] = 9839\n",
    "elo_rating.loc[(elo_rating.Country == \"NED\") & (elo_rating.Club == \"Vitesse\"), \"team_api_id\"] = 8277\n",
    "elo_rating.loc[(elo_rating.Country == \"NED\") & (elo_rating.Club == \"Willem II\"), \"team_api_id\"] = 8525"
   ]
  },
  {
   "cell_type": "code",
   "execution_count": 16,
   "metadata": {},
   "outputs": [],
   "source": [
    "## Portugal Liga ZON Sagres\n",
    "\n",
    "elo_rating.loc[(elo_rating.Country == \"POR\") & (elo_rating.Club == \"Academica\"), \"team_api_id\"] = 10215\n",
    "elo_rating.loc[(elo_rating.Country == \"POR\") & (elo_rating.Club == \"Boavista\"), \"team_api_id\"] = 8613\n",
    "elo_rating.loc[(elo_rating.Country == \"POR\") & (elo_rating.Club == \"Nacional\"), \"team_api_id\"] = 10214\n",
    "elo_rating.loc[(elo_rating.Country == \"POR\") & (elo_rating.Club == \"Belenenses\"), \"team_api_id\"] = 9807\n",
    "elo_rating.loc[(elo_rating.Country == \"POR\") & (elo_rating.Club == \"Maritimo\"), \"team_api_id\"] = 10212\n",
    "elo_rating.loc[(elo_rating.Country == \"POR\") & (elo_rating.Club == \"Estoril\"), \"team_api_id\"] = 7842\n",
    "elo_rating.loc[(elo_rating.Country == \"POR\") & (elo_rating.Club == \"Arouca\"), \"team_api_id\"] = 158085\n",
    "elo_rating.loc[(elo_rating.Country == \"POR\") & (elo_rating.Club == \"Pacos Ferreira\"), \"team_api_id\"] = 6403\n",
    "elo_rating.loc[(elo_rating.Country == \"POR\") & (elo_rating.Club == \"Penafiel\"), \"team_api_id\"] = 6547\n",
    "elo_rating.loc[(elo_rating.Country == \"POR\") & (elo_rating.Club == \"Porto\"), \"team_api_id\"] = 9773\n",
    "elo_rating.loc[(elo_rating.Country == \"POR\") & (elo_rating.Club == \"Gil Vicente\"), \"team_api_id\"] = 9764\n",
    "elo_rating.loc[(elo_rating.Country == \"POR\") & (elo_rating.Club == \"Leixoes\"), \"team_api_id\"] = 6421\n",
    "elo_rating.loc[(elo_rating.Country == \"POR\") & (elo_rating.Club == \"Moreirense\"), \"team_api_id\"] = 8348\n",
    "elo_rating.loc[(elo_rating.Country == \"POR\") & (elo_rating.Club == \"Naval\"), \"team_api_id\"] = 9809\n",
    "elo_rating.loc[(elo_rating.Country == \"POR\") & (elo_rating.Club == \"Rio Ave\"), \"team_api_id\"] = 7841\n",
    "elo_rating.loc[(elo_rating.Country == \"POR\") & (elo_rating.Club == \"Olhanense\"), \"team_api_id\"] = 2033\n",
    "elo_rating.loc[(elo_rating.Country == \"POR\") & (elo_rating.Club == \"Beira Mar\"), \"team_api_id\"] = 10211\n",
    "elo_rating.loc[(elo_rating.Country == \"POR\") & (elo_rating.Club == \"Braga\"), \"team_api_id\"] = 10264\n",
    "elo_rating.loc[(elo_rating.Country == \"POR\") & (elo_rating.Club == \"Benfica\"), \"team_api_id\"] = 9772\n",
    "elo_rating.loc[(elo_rating.Country == \"POR\") & (elo_rating.Club == \"Sporting\"), \"team_api_id\"] = 9768\n",
    "elo_rating.loc[(elo_rating.Country == \"POR\") & (elo_rating.Club == \"Leiria\"), \"team_api_id\"] = 9771\n",
    "elo_rating.loc[(elo_rating.Country == \"POR\") & (elo_rating.Club == \"Guimaraes\"), \"team_api_id\"] = 7844\n",
    "elo_rating.loc[(elo_rating.Country == \"POR\") & (elo_rating.Club == \"Setubal\"), \"team_api_id\"] = 10238"
   ]
  },
  {
   "cell_type": "code",
   "execution_count": 17,
   "metadata": {},
   "outputs": [],
   "source": [
    "## Italy Serie A\n",
    "\n",
    "elo_rating.loc[(elo_rating.Country == \"ITA\") & (elo_rating.Club == \"Atalanta\"), \"team_api_id\"] = 8524\n",
    "elo_rating.loc[(elo_rating.Country == \"ITA\") & (elo_rating.Club == \"Bari\"), \"team_api_id\"] = 9976\n",
    "elo_rating.loc[(elo_rating.Country == \"ITA\") & (elo_rating.Club == \"Bologna\"), \"team_api_id\"] = 9857\n",
    "elo_rating.loc[(elo_rating.Country == \"ITA\") & (elo_rating.Club == \"Brescia\"), \"team_api_id\"] = 9858\n",
    "elo_rating.loc[(elo_rating.Country == \"ITA\") & (elo_rating.Club == \"Cagliari\"), \"team_api_id\"] = 8529\n",
    "elo_rating.loc[(elo_rating.Country == \"ITA\") & (elo_rating.Club == \"Carpi\"), \"team_api_id\"] = 208931\n",
    "elo_rating.loc[(elo_rating.Country == \"ITA\") & (elo_rating.Club == \"Catania\"), \"team_api_id\"] = 8530\n",
    "elo_rating.loc[(elo_rating.Country == \"ITA\") & (elo_rating.Club == \"Cesena\"), \"team_api_id\"] = 9880\n",
    "elo_rating.loc[(elo_rating.Country == \"ITA\") & (elo_rating.Club == \"Chievo\"), \"team_api_id\"] = 8533\n",
    "elo_rating.loc[(elo_rating.Country == \"ITA\") & (elo_rating.Club == \"Empoli\"), \"team_api_id\"] = 8534\n",
    "elo_rating.loc[(elo_rating.Country == \"ITA\") & (elo_rating.Club == \"Fiorentina\"), \"team_api_id\"] = 8535\n",
    "elo_rating.loc[(elo_rating.Country == \"ITA\") & (elo_rating.Club == \"Frosinone\"), \"team_api_id\"] = 9891\n",
    "elo_rating.loc[(elo_rating.Country == \"ITA\") & (elo_rating.Club == \"Genoa\"), \"team_api_id\"] = 10233\n",
    "elo_rating.loc[(elo_rating.Country == \"ITA\") & (elo_rating.Club == \"Verona\"), \"team_api_id\"] = 9876\n",
    "elo_rating.loc[(elo_rating.Country == \"ITA\") & (elo_rating.Club == \"Inter\"), \"team_api_id\"] = 8636\n",
    "elo_rating.loc[(elo_rating.Country == \"ITA\") & (elo_rating.Club == \"Juventus\"), \"team_api_id\"] = 9885\n",
    "elo_rating.loc[(elo_rating.Country == \"ITA\") & (elo_rating.Club == \"Lazio\"), \"team_api_id\"] = 8543\n",
    "elo_rating.loc[(elo_rating.Country == \"ITA\") & (elo_rating.Club == \"Lecce\"), \"team_api_id\"] = 9888\n",
    "elo_rating.loc[(elo_rating.Country == \"ITA\") & (elo_rating.Club == \"Livorno\"), \"team_api_id\"] = 8537 \n",
    "elo_rating.loc[(elo_rating.Country == \"ITA\") & (elo_rating.Club == \"Milan\"), \"team_api_id\"] = 8564\n",
    "elo_rating.loc[(elo_rating.Country == \"ITA\") & (elo_rating.Club == \"Napoli\"), \"team_api_id\"] = 9875\n",
    "elo_rating.loc[(elo_rating.Country == \"ITA\") & (elo_rating.Club == \"Novara\"), \"team_api_id\"] = 6269\n",
    "elo_rating.loc[(elo_rating.Country == \"ITA\") & (elo_rating.Club == \"Palermo\"), \"team_api_id\"] = 8540\n",
    "elo_rating.loc[(elo_rating.Country == \"ITA\") & (elo_rating.Club == \"Parma\"), \"team_api_id\"] = 10167\n",
    "elo_rating.loc[(elo_rating.Country == \"ITA\") & (elo_rating.Club == \"Pescara\"), \"team_api_id\"] = 9878\n",
    "elo_rating.loc[(elo_rating.Country == \"ITA\") & (elo_rating.Club == \"Reggina\"), \"team_api_id\"] = 8690\n",
    "elo_rating.loc[(elo_rating.Country == \"ITA\") & (elo_rating.Club == \"Roma\"), \"team_api_id\"] = 8686\n",
    "elo_rating.loc[(elo_rating.Country == \"ITA\") & (elo_rating.Club == \"Sampdoria\"), \"team_api_id\"] = 9882\n",
    "elo_rating.loc[(elo_rating.Country == \"ITA\") & (elo_rating.Club == \"Sassuolo\"), \"team_api_id\"] = 7943\n",
    "elo_rating.loc[(elo_rating.Country == \"ITA\") & (elo_rating.Club == \"Siena\"), \"team_api_id\"] = 8551\n",
    "elo_rating.loc[(elo_rating.Country == \"ITA\") & (elo_rating.Club == \"Torino\"), \"team_api_id\"] = 9804\n",
    "elo_rating.loc[(elo_rating.Country == \"ITA\") & (elo_rating.Club == \"Udinese\"), \"team_api_id\"] = 8600"
   ]
  },
  {
   "cell_type": "code",
   "execution_count": 18,
   "metadata": {},
   "outputs": [],
   "source": [
    "## France Ligue 1\n",
    "\n",
    "elo_rating.loc[(elo_rating.Country == \"FRA\") & (elo_rating.Club == \"Ajaccio\"), \"team_api_id\"] = 8576\n",
    "elo_rating.loc[(elo_rating.Country == \"FRA\") & (elo_rating.Club == \"Arles-Avignon\"), \"team_api_id\"] = 108893\n",
    "elo_rating.loc[(elo_rating.Country == \"FRA\") & (elo_rating.Club == \"Auxerre\"), \"team_api_id\"] = 8583\n",
    "elo_rating.loc[(elo_rating.Country == \"FRA\") & (elo_rating.Club == \"Monaco\"), \"team_api_id\"] = 9829\n",
    "elo_rating.loc[(elo_rating.Country == \"FRA\") & (elo_rating.Club == \"Nancy\"), \"team_api_id\"] = 8481\n",
    "elo_rating.loc[(elo_rating.Country == \"FRA\") & (elo_rating.Club == \"Saint-Etienne\"), \"team_api_id\"] = 9853\n",
    "elo_rating.loc[(elo_rating.Country == \"FRA\") & (elo_rating.Club == \"Angers\"), \"team_api_id\"] = 8121\n",
    "elo_rating.loc[(elo_rating.Country == \"FRA\") & (elo_rating.Club == \"Dijon\"), \"team_api_id\"] = 9836\n",
    "elo_rating.loc[(elo_rating.Country == \"FRA\") & (elo_rating.Club == \"Troyes\"), \"team_api_id\"] = 10242\n",
    "elo_rating.loc[(elo_rating.Country == \"FRA\") & (elo_rating.Club == \"Guingamp\"), \"team_api_id\"] = 9747\n",
    "elo_rating.loc[(elo_rating.Country == \"FRA\") & (elo_rating.Club == \"Lorient\"), \"team_api_id\"] = 8689\n",
    "elo_rating.loc[(elo_rating.Country == \"FRA\") & (elo_rating.Club == \"Metz\"), \"team_api_id\"] = 8550\n",
    "elo_rating.loc[(elo_rating.Country == \"FRA\") & (elo_rating.Club == \"Nantes\"), \"team_api_id\"] = 9830\n",
    "elo_rating.loc[(elo_rating.Country == \"FRA\") & (elo_rating.Club == \"Sochaux\"), \"team_api_id\"] = 9874\n",
    "elo_rating.loc[(elo_rating.Country == \"FRA\") & (elo_rating.Club == \"Gazelec\"), \"team_api_id\"] = 6391\n",
    "elo_rating.loc[(elo_rating.Country == \"FRA\") & (elo_rating.Club == \"Bordeaux\"), \"team_api_id\"] = 9827\n",
    "elo_rating.loc[(elo_rating.Country == \"FRA\") & (elo_rating.Club == \"Grenoble\"), \"team_api_id\"] = 9855\n",
    "elo_rating.loc[(elo_rating.Country == \"FRA\") & (elo_rating.Club == \"Lille\"), \"team_api_id\"] = 8639\n",
    "elo_rating.loc[(elo_rating.Country == \"FRA\") & (elo_rating.Club == \"Le Havre\"), \"team_api_id\"] = 9746\n",
    "elo_rating.loc[(elo_rating.Country == \"FRA\") & (elo_rating.Club == \"Le Mans\"), \"team_api_id\"] = 8682\n",
    "elo_rating.loc[(elo_rating.Country == \"FRA\") & (elo_rating.Club == \"Montpellier\"), \"team_api_id\"] = 10249\n",
    "elo_rating.loc[(elo_rating.Country == \"FRA\") & (elo_rating.Club == \"Nice\"), \"team_api_id\"] = 9831\n",
    "elo_rating.loc[(elo_rating.Country == \"FRA\") & (elo_rating.Club == \"Lyon\"), \"team_api_id\"] = 9748\n",
    "elo_rating.loc[(elo_rating.Country == \"FRA\") & (elo_rating.Club == \"Marseille\"), \"team_api_id\"] = 8592\n",
    "elo_rating.loc[(elo_rating.Country == \"FRA\") & (elo_rating.Club == \"Paris SG\"), \"team_api_id\"] = 9847\n",
    "elo_rating.loc[(elo_rating.Country == \"FRA\") & (elo_rating.Club == \"Lens\"), \"team_api_id\"] = 8588\n",
    "elo_rating.loc[(elo_rating.Country == \"FRA\") & (elo_rating.Club == \"Bastia\"), \"team_api_id\"] = 7794\n",
    "elo_rating.loc[(elo_rating.Country == \"FRA\") & (elo_rating.Club == \"Caen\"), \"team_api_id\"] = 7819\n",
    "elo_rating.loc[(elo_rating.Country == \"FRA\") & (elo_rating.Club == \"Brest\"), \"team_api_id\"] = 8521\n",
    "elo_rating.loc[(elo_rating.Country == \"FRA\") & (elo_rating.Club == \"Rennes\"), \"team_api_id\"] = 9851\n",
    "elo_rating.loc[(elo_rating.Country == \"FRA\") & (elo_rating.Club == \"Reims\"), \"team_api_id\"] = 9837\n",
    "elo_rating.loc[(elo_rating.Country == \"FRA\") & (elo_rating.Club == \"Toulouse\"), \"team_api_id\"] = 9941\n",
    "elo_rating.loc[(elo_rating.Country == \"FRA\") & (elo_rating.Club == \"Boulogne\"), \"team_api_id\"] = 4170\n",
    "elo_rating.loc[(elo_rating.Country == \"FRA\") & (elo_rating.Club == \"Valenciennes\"), \"team_api_id\"] = 9873\n",
    "elo_rating.loc[(elo_rating.Country == \"FRA\") & (elo_rating.Club == \"Evian TG\"), \"team_api_id\"] = 4087"
   ]
  },
  {
   "cell_type": "code",
   "execution_count": 19,
   "metadata": {},
   "outputs": [],
   "source": [
    "## Scotland Premier League\n",
    "\n",
    "elo_rating.loc[(elo_rating.Country == \"SCO\") & (elo_rating.Club == \"Aberdeen\"), \"team_api_id\"] = 8485\n",
    "elo_rating.loc[(elo_rating.Country == \"SCO\") & (elo_rating.Club == \"Celtic\"), \"team_api_id\"] = 9925\n",
    "elo_rating.loc[(elo_rating.Country == \"SCO\") & (elo_rating.Club == \"Dundee\"), \"team_api_id\"] = 8284\n",
    "elo_rating.loc[(elo_rating.Country == \"SCO\") & (elo_rating.Club == \"Dundee United\"), \"team_api_id\"] = 9938\n",
    "elo_rating.loc[(elo_rating.Country == \"SCO\") & (elo_rating.Club == \"Dunfermline\"), \"team_api_id\"] = 8457\n",
    "elo_rating.loc[(elo_rating.Country == \"SCO\") & (elo_rating.Club == \"Falkirk\"), \"team_api_id\"] = 8596\n",
    "elo_rating.loc[(elo_rating.Country == \"SCO\") & (elo_rating.Club == \"Hamilton\"), \"team_api_id\"] = 8429\n",
    "elo_rating.loc[(elo_rating.Country == \"SCO\") & (elo_rating.Club == \"Hearts\"), \"team_api_id\"] = 9860\n",
    "elo_rating.loc[(elo_rating.Country == \"SCO\") & (elo_rating.Club == \"Hibernian\"), \"team_api_id\"] = 10251\n",
    "elo_rating.loc[(elo_rating.Country == \"SCO\") & (elo_rating.Club == \"Inverness\"), \"team_api_id\"] = 8066\n",
    "elo_rating.loc[(elo_rating.Country == \"SCO\") & (elo_rating.Club == \"Kilmarnock\"), \"team_api_id\"] = 8597\n",
    "elo_rating.loc[(elo_rating.Country == \"SCO\") & (elo_rating.Club == \"Motherwell\"), \"team_api_id\"] = 9927\n",
    "elo_rating.loc[(elo_rating.Country == \"SCO\") & (elo_rating.Club == \"Partick\"), \"team_api_id\"] = 8426\n",
    "elo_rating.loc[(elo_rating.Country == \"SCO\") & (elo_rating.Club == \"Rangers\"), \"team_api_id\"] = 8548\n",
    "elo_rating.loc[(elo_rating.Country == \"SCO\") & (elo_rating.Club == \"Ross County\"), \"team_api_id\"] = 8649\n",
    "elo_rating.loc[(elo_rating.Country == \"SCO\") & (elo_rating.Club == \"St Johnstone\"), \"team_api_id\"] = 8467\n",
    "elo_rating.loc[(elo_rating.Country == \"SCO\") & (elo_rating.Club == \"St Mirren\"), \"team_api_id\"] = 9800"
   ]
  },
  {
   "cell_type": "code",
   "execution_count": 20,
   "metadata": {},
   "outputs": [],
   "source": [
    "## Switzerland Super League\n",
    "\n",
    "elo_rating.loc[(elo_rating.Country == \"SUI\") & (elo_rating.Club == \"Aarau\"), \"team_api_id\"] = 9930\n",
    "elo_rating.loc[(elo_rating.Country == \"SUI\") & (elo_rating.Club == \"Basel\"), \"team_api_id\"] = 9931\n",
    "elo_rating.loc[(elo_rating.Country == \"SUI\") & (elo_rating.Club == \"Bellinzona\"), \"team_api_id\"] = 6493\n",
    "elo_rating.loc[(elo_rating.Country == \"SUI\") & (elo_rating.Club == \"Grasshoppers\"), \"team_api_id\"] = 9956\n",
    "elo_rating.loc[(elo_rating.Country == \"SUI\") & (elo_rating.Club == \"Lausanne\"), \"team_api_id\"] = 7730\n",
    "elo_rating.loc[(elo_rating.Country == \"SUI\") & (elo_rating.Club == \"Luzern\"), \"team_api_id\"] = 10199\n",
    "elo_rating.loc[(elo_rating.Country == \"SUI\") & (elo_rating.Club == \"Servette\"), \"team_api_id\"] = 9777\n",
    "elo_rating.loc[(elo_rating.Country == \"SUI\") & (elo_rating.Club == \"Sion\"), \"team_api_id\"] = 10179\n",
    "elo_rating.loc[(elo_rating.Country == \"SUI\") & (elo_rating.Club == \"StGallen\"), \"team_api_id\"] = 10190\n",
    "elo_rating.loc[(elo_rating.Country == \"SUI\") & (elo_rating.Club == \"Thun\"), \"team_api_id\"] = 10191\n",
    "elo_rating.loc[(elo_rating.Country == \"SUI\") & (elo_rating.Club == \"Xamax\"), \"team_api_id\"] = 7955\n",
    "elo_rating.loc[(elo_rating.Country == \"SUI\") & (elo_rating.Club == \"Young Boys\"), \"team_api_id\"] = 10192\n",
    "elo_rating.loc[(elo_rating.Country == \"SUI\") & (elo_rating.Club == \"Zuerich\"), \"team_api_id\"] = 10243\n",
    "elo_rating.loc[(elo_rating.Country == \"LIE\") & (elo_rating.Club == \"Vaduz\"), \"team_api_id\"] = 9824"
   ]
  },
  {
   "attachments": {},
   "cell_type": "markdown",
   "metadata": {},
   "source": [
    "- Save the elo_rating table."
   ]
  },
  {
   "cell_type": "code",
   "execution_count": 29,
   "metadata": {},
   "outputs": [],
   "source": [
    "elo_rating.to_csv(\"../data/elo_rating.csv\", index = False)"
   ]
  },
  {
   "attachments": {},
   "cell_type": "markdown",
   "metadata": {},
   "source": [
    "- Let's calculate the home & away Elo rating difference of each match that will be used for modeling later.\n",
    "- First, get home teams's Elo rating."
   ]
  },
  {
   "cell_type": "code",
   "execution_count": 21,
   "metadata": {},
   "outputs": [],
   "source": [
    "match_api_id = df_match_basic[[\"match_api_id\", \"match_date\", \"home_team_api_id\", \"away_team_api_id\"]]"
   ]
  },
  {
   "cell_type": "code",
   "execution_count": 51,
   "metadata": {},
   "outputs": [],
   "source": [
    "df_match_elo = match_api_id.rename(columns = {\"home_team_api_id\": \"team_api_id\"}).merge(elo_rating[[\"team_api_id\", \"match_date\", \"Elo\"]], how = \"left\", on = [\"team_api_id\", \"match_date\"]).rename(columns = {\"Elo\": \"home_elo\", \"team_api_id\": \"home_team_api_id\"})"
   ]
  },
  {
   "cell_type": "code",
   "execution_count": 52,
   "metadata": {},
   "outputs": [
    {
     "data": {
      "text/plain": [
       "match_api_id          0\n",
       "match_date            0\n",
       "home_team_api_id      0\n",
       "away_team_api_id      0\n",
       "home_elo            269\n",
       "dtype: int64"
      ]
     },
     "execution_count": 52,
     "metadata": {},
     "output_type": "execute_result"
    }
   ],
   "source": [
    "df_match_elo.isna().sum()"
   ]
  },
  {
   "attachments": {},
   "cell_type": "markdown",
   "metadata": {},
   "source": [
    "- Some home teams don't have Elo information for some match dates.\n",
    "- We will impute this missing values by filling most recent Elo rating of corresponding teams."
   ]
  },
  {
   "cell_type": "code",
   "execution_count": 36,
   "metadata": {},
   "outputs": [],
   "source": [
    "target_team_id = df_match_elo[(df_match_elo.home_elo.isna())][[\"home_team_api_id\"]].drop_duplicates()\n",
    "valid_target_team_id = target_team_id[target_team_id.team_api_id.isin(df_team.team_api_id.unique())]\n",
    "target_club_name = elo_rating[elo_rating.team_api_id.isin(valid_target_team_id.team_api_id)].Club.unique()"
   ]
  },
  {
   "cell_type": "code",
   "execution_count": 39,
   "metadata": {},
   "outputs": [],
   "source": [
    "target_club_all_elo = pd.DataFrame(columns = [\"Rank\", \"Club\", \"Country\", \"Level\", \"Elo\", \"From\", \"To\"])"
   ]
  },
  {
   "cell_type": "code",
   "execution_count": 40,
   "metadata": {},
   "outputs": [],
   "source": [
    "for target_club in target_club_name:\n",
    "    api_url = f\"http://api.clubelo.com/{target_club}\"\n",
    "    \n",
    "    response = requests.get(api_url)\n",
    "    decoded_content = response.content.decode(\"utf-8\")\n",
    "    cr = csv.reader(decoded_content.splitlines(), delimiter = \",\")\n",
    "    \n",
    "    my_list = list(cr)\n",
    "    \n",
    "    target_club_elo_rating = pd.DataFrame(my_list[1:], columns = my_list[0])\n",
    "    \n",
    "    target_club_all_elo = pd.concat([target_club_all_elo, target_club_elo_rating])"
   ]
  },
  {
   "cell_type": "code",
   "execution_count": 42,
   "metadata": {},
   "outputs": [],
   "source": [
    "target_club_all_elo = target_club_all_elo[~target_club_all_elo.Club.isna()]"
   ]
  },
  {
   "cell_type": "code",
   "execution_count": 71,
   "metadata": {},
   "outputs": [],
   "source": [
    "target_club_all_elo = target_club_all_elo.merge(elo_rating[[\"Club\", \"team_api_id\"]].drop_duplicates(), how = \"left\", on = \"Club\")"
   ]
  },
  {
   "cell_type": "code",
   "execution_count": null,
   "metadata": {},
   "outputs": [],
   "source": [
    "target_df = df_match_elo[(df_match_elo.home_team_api_id.isin(valid_target_team_id.home_team_api_id)) & (df_match_elo.home_elo.isna())]"
   ]
  },
  {
   "cell_type": "code",
   "execution_count": 75,
   "metadata": {},
   "outputs": [],
   "source": [
    "target_df_merged = target_df.merge(target_club_all_elo[[\"team_api_id\", \"To\", \"Elo\"]], how = \"left\", left_on = \"home_team_api_id\", right_on = \"team_api_id\")"
   ]
  },
  {
   "cell_type": "code",
   "execution_count": 80,
   "metadata": {},
   "outputs": [],
   "source": [
    "target_df_merged = target_df_merged[target_df_merged.match_date > target_df_merged.To]"
   ]
  },
  {
   "cell_type": "code",
   "execution_count": 85,
   "metadata": {},
   "outputs": [],
   "source": [
    "imputed_elo = target_df_merged.sort_values([\"home_team_api_id\", \"match_date\", \"To\"]).groupby([\"home_team_api_id\", \"match_api_id\"]) \\\n",
    "                              .last().reset_index()[[\"match_api_id\", \"match_date\", \"home_team_api_id\", \"away_team_api_id\", \"Elo\"]] \\\n",
    "                              .rename(columns = {\"Elo\": \"home_elo\"})"
   ]
  },
  {
   "cell_type": "code",
   "execution_count": 91,
   "metadata": {},
   "outputs": [],
   "source": [
    "df_match_elo = pd.concat([df_match_elo[~df_match_elo.home_elo.isna()], imputed_elo])"
   ]
  },
  {
   "attachments": {},
   "cell_type": "markdown",
   "metadata": {},
   "source": [
    "- Now, let's get away teams's Elo rating."
   ]
  },
  {
   "cell_type": "code",
   "execution_count": 95,
   "metadata": {},
   "outputs": [],
   "source": [
    "df_match_elo = df_match_elo.rename(columns = {\"away_team_api_id\": \"team_api_id\"}).merge(elo_rating[[\"team_api_id\", \"match_date\", \"Elo\"]], how = \"left\", on = [\"team_api_id\", \"match_date\"]).rename(columns = {\"Elo\": \"away_elo\", \"team_api_id\": \"away_team_api_id\"})"
   ]
  },
  {
   "cell_type": "code",
   "execution_count": 96,
   "metadata": {},
   "outputs": [
    {
     "data": {
      "text/plain": [
       "match_api_id          0\n",
       "match_date            0\n",
       "home_team_api_id      0\n",
       "away_team_api_id      0\n",
       "home_elo              0\n",
       "away_elo            261\n",
       "dtype: int64"
      ]
     },
     "execution_count": 96,
     "metadata": {},
     "output_type": "execute_result"
    }
   ],
   "source": [
    "df_match_elo.isna().sum()"
   ]
  },
  {
   "attachments": {},
   "cell_type": "markdown",
   "metadata": {},
   "source": [
    "- Some away teams don't have Elo information for some match dates.\n",
    "- We will impute this missing values by filling most recent Elo rating of corresponding teams."
   ]
  },
  {
   "cell_type": "code",
   "execution_count": 106,
   "metadata": {},
   "outputs": [],
   "source": [
    "target_team_id = df_match_elo[(df_match_elo.away_elo.isna())][[\"away_team_api_id\"]].drop_duplicates()\n",
    "valid_target_team_id = target_team_id[target_team_id.away_team_api_id.isin(df_team.team_api_id.unique())]\n",
    "target_club_name = elo_rating[elo_rating.team_api_id.isin(valid_target_team_id.away_team_api_id)].Club.unique()"
   ]
  },
  {
   "cell_type": "code",
   "execution_count": 108,
   "metadata": {},
   "outputs": [],
   "source": [
    "target_df = df_match_elo[(df_match_elo.away_team_api_id.isin(valid_target_team_id.away_team_api_id)) & (df_match_elo.away_elo.isna())]"
   ]
  },
  {
   "cell_type": "code",
   "execution_count": 110,
   "metadata": {},
   "outputs": [],
   "source": [
    "target_df_merged = target_df.merge(target_club_all_elo[[\"team_api_id\", \"To\", \"Elo\"]], how = \"left\", left_on = \"away_team_api_id\", right_on = \"team_api_id\")"
   ]
  },
  {
   "cell_type": "code",
   "execution_count": 111,
   "metadata": {},
   "outputs": [],
   "source": [
    "target_df_merged = target_df_merged[target_df_merged.match_date > target_df_merged.To]"
   ]
  },
  {
   "cell_type": "code",
   "execution_count": 119,
   "metadata": {},
   "outputs": [],
   "source": [
    "imputed_elo = target_df_merged.sort_values([\"away_team_api_id\", \"match_date\", \"To\"]).groupby([\"away_team_api_id\", \"match_api_id\"]) \\\n",
    "                              .last().reset_index()[[\"match_api_id\", \"match_date\", \"home_team_api_id\", \"away_team_api_id\", \"home_elo\", \"Elo\"]] \\\n",
    "                              .rename(columns = {\"Elo\": \"away_elo\"})"
   ]
  },
  {
   "cell_type": "code",
   "execution_count": 122,
   "metadata": {},
   "outputs": [],
   "source": [
    "df_match_elo = pd.concat([df_match_elo[~df_match_elo.away_elo.isna()], imputed_elo])"
   ]
  },
  {
   "cell_type": "code",
   "execution_count": 124,
   "metadata": {},
   "outputs": [
    {
     "data": {
      "text/plain": [
       "match_api_id        0\n",
       "match_date          0\n",
       "home_team_api_id    0\n",
       "away_team_api_id    0\n",
       "home_elo            0\n",
       "away_elo            0\n",
       "dtype: int64"
      ]
     },
     "execution_count": 124,
     "metadata": {},
     "output_type": "execute_result"
    }
   ],
   "source": [
    "df_match_elo.isna().sum()"
   ]
  },
  {
   "attachments": {},
   "cell_type": "markdown",
   "metadata": {},
   "source": [
    "- Now, there is no missing value in the home & away teams' Elo information."
   ]
  },
  {
   "cell_type": "code",
   "execution_count": 165,
   "metadata": {},
   "outputs": [
    {
     "data": {
      "text/plain": [
       "match_api_id         int64\n",
       "match_date          object\n",
       "home_team_api_id     int64\n",
       "away_team_api_id     int64\n",
       "home_elo            object\n",
       "away_elo            object\n",
       "dtype: object"
      ]
     },
     "execution_count": 165,
     "metadata": {},
     "output_type": "execute_result"
    }
   ],
   "source": [
    "df_match_elo.dtypes"
   ]
  },
  {
   "attachments": {},
   "cell_type": "markdown",
   "metadata": {},
   "source": [
    "- Change the data type of the Elo to the float."
   ]
  },
  {
   "cell_type": "code",
   "execution_count": 168,
   "metadata": {},
   "outputs": [],
   "source": [
    "df_match_elo[\"home_elo\"] = df_match_elo.home_elo.astype(\"float\")\n",
    "df_match_elo[\"away_elo\"] = df_match_elo.away_elo.astype(\"float\")\n"
   ]
  },
  {
   "cell_type": "code",
   "execution_count": 169,
   "metadata": {},
   "outputs": [
    {
     "data": {
      "text/plain": [
       "match_api_id          int64\n",
       "match_date           object\n",
       "home_team_api_id      int64\n",
       "away_team_api_id      int64\n",
       "home_elo            float64\n",
       "away_elo            float64\n",
       "dtype: object"
      ]
     },
     "execution_count": 169,
     "metadata": {},
     "output_type": "execute_result"
    }
   ],
   "source": [
    "df_match_elo.dtypes"
   ]
  },
  {
   "attachments": {},
   "cell_type": "markdown",
   "metadata": {},
   "source": [
    "## 2. EDA of the Elo rating"
   ]
  },
  {
   "attachments": {},
   "cell_type": "markdown",
   "metadata": {},
   "source": [
    "### Q. What is the winning percentage of teams with larger Elo rating than the opponent team?"
   ]
  },
  {
   "cell_type": "code",
   "execution_count": 170,
   "metadata": {},
   "outputs": [],
   "source": [
    "df_match_elo_with_result = df_match_elo.merge(df_match_basic[[\"match_api_id\", \"match_result\"]], how = \"left\", on = \"match_api_id\")"
   ]
  },
  {
   "cell_type": "code",
   "execution_count": 171,
   "metadata": {},
   "outputs": [],
   "source": [
    "home_bigger = df_match_elo_with_result[df_match_elo_with_result.home_elo > df_match_elo_with_result.away_elo][[\"match_api_id\", \"home_elo\", \"away_elo\", \"match_result\"]]\n",
    "home_bigger.loc[home_bigger.match_result == \"home_win\", \"match_result\"] = \"win\"\n",
    "home_bigger.loc[home_bigger.match_result == \"away_win\", \"match_result\"] = \"lose\""
   ]
  },
  {
   "cell_type": "code",
   "execution_count": 172,
   "metadata": {},
   "outputs": [],
   "source": [
    "away_bigger = df_match_elo_with_result[df_match_elo_with_result.home_elo < df_match_elo_with_result.away_elo][[\"match_api_id\", \"home_elo\", \"away_elo\", \"match_result\"]]\n",
    "away_bigger.loc[away_bigger.match_result == \"home_win\", \"match_result\"] = \"lose\"\n",
    "away_bigger.loc[away_bigger.match_result == \"away_win\", \"match_result\"] = \"win\""
   ]
  },
  {
   "cell_type": "code",
   "execution_count": 173,
   "metadata": {},
   "outputs": [],
   "source": [
    "bigger = pd.concat([home_bigger, away_bigger])"
   ]
  },
  {
   "cell_type": "code",
   "execution_count": 174,
   "metadata": {},
   "outputs": [
    {
     "data": {
      "text/plain": [
       "win     12596\n",
       "lose     6518\n",
       "draw     6507\n",
       "Name: match_result, dtype: int64"
      ]
     },
     "execution_count": 174,
     "metadata": {},
     "output_type": "execute_result"
    }
   ],
   "source": [
    "bigger.match_result.value_counts()"
   ]
  },
  {
   "cell_type": "code",
   "execution_count": 175,
   "metadata": {},
   "outputs": [
    {
     "data": {
      "text/plain": [
       "<AxesSubplot:xlabel='match_result', ylabel='count'>"
      ]
     },
     "execution_count": 175,
     "metadata": {},
     "output_type": "execute_result"
    },
    {
     "data": {
      "image/png": "[encoded data removed]",
      "text/plain": [
       "<Figure size 640x480 with 1 Axes>"
      ]
     },
     "metadata": {},
     "output_type": "display_data"
    }
   ],
   "source": [
    "sns.countplot(x = bigger.match_result, order = bigger.match_result.value_counts().index)"
   ]
  },
  {
   "attachments": {},
   "cell_type": "markdown",
   "metadata": {},
   "source": [
    "- A team with a higher Elo rating has an about 50% chance of winning against a team with a lower Elo rating."
   ]
  },
  {
   "cell_type": "code",
   "execution_count": 176,
   "metadata": {},
   "outputs": [
    {
     "data": {
      "text/plain": [
       "away_win    5064\n",
       "home_win    4221\n",
       "draw        3492\n",
       "Name: match_result, dtype: int64"
      ]
     },
     "execution_count": 176,
     "metadata": {},
     "output_type": "execute_result"
    }
   ],
   "source": [
    "df_match_elo_with_result[df_match_elo_with_result.home_elo < df_match_elo_with_result.away_elo].match_result.value_counts()"
   ]
  },
  {
   "cell_type": "code",
   "execution_count": 177,
   "metadata": {},
   "outputs": [
    {
     "data": {
      "text/plain": [
       "Text(0.5, 1.0, \"If away team's Elo > home team's Elo\")"
      ]
     },
     "execution_count": 177,
     "metadata": {},
     "output_type": "execute_result"
    },
    {
     "data": {
      "image/png": "[encoded data removed]",
      "text/plain": [
       "<Figure size 1200x500 with 2 Axes>"
      ]
     },
     "metadata": {},
     "output_type": "display_data"
    }
   ],
   "source": [
    "fig, axes = plt.subplots(1, 2, figsize = (12, 5))\n",
    "\n",
    "sns.countplot(x = df_match_elo_with_result.match_result, ax = axes[0])\n",
    "axes[0].set_title(\"All matches\", fontsize = 15)\n",
    "\n",
    "sns.countplot(x = df_match_elo_with_result[df_match_elo_with_result.home_elo < df_match_elo_with_result.away_elo].match_result, ax = axes[1])\n",
    "axes[1].set_title(\"If away team's Elo > home team's Elo\", fontsize = 15)"
   ]
  },
  {
   "attachments": {},
   "cell_type": "markdown",
   "metadata": {},
   "source": [
    "- If we look at the entire match without taking Elo into account, the away team wins about 30% of the time.\n",
    "- However, if we only consider matches where the away team has a higher Elo, we can see that the away team has a higher win rate.\n",
    "- That is, it can be seen that Elo has a greater impact on the match result than home or away."
   ]
  },
  {
   "attachments": {},
   "cell_type": "markdown",
   "metadata": {},
   "source": [
    "## 3. Feature engineering for Elo rating."
   ]
  },
  {
   "attachments": {},
   "cell_type": "markdown",
   "metadata": {},
   "source": [
    "- Comparing the relative Elo between the two teams is more important than the absolute Elo value of each team.\n",
    "- So let's use the Elo difference between the two teams as a variable (Home team Elo - Away team Elo) rather than the Elo of the two teams."
   ]
  },
  {
   "cell_type": "code",
   "execution_count": 189,
   "metadata": {},
   "outputs": [],
   "source": [
    "df_match_elo[\"elo_difference\"] = df_match_elo.home_elo - df_match_elo.away_elo  "
   ]
  },
  {
   "attachments": {},
   "cell_type": "markdown",
   "metadata": {},
   "source": [
    "- In addition, the elo at the time of the match is important, but the mid- to long-term elo can also be an important variable in determining how strong each team is.\n",
    "- So, let's create variables to identify changes in each team's mid-term and long-term Elo ratings:\n",
    "    - each team's last 1 / 3 / 5 / 10 / 20 / 30 / 60 / 90 matches    \n",
    "        - average Elo rating\n",
    "        - standard deviation of Elo rating"
   ]
  },
  {
   "cell_type": "code",
   "execution_count": 205,
   "metadata": {},
   "outputs": [],
   "source": [
    "elo_rolling_info = elo_rating[[\"team_api_id\", \"match_date\", \"Elo\"]].dropna()"
   ]
  },
  {
   "cell_type": "code",
   "execution_count": 237,
   "metadata": {},
   "outputs": [],
   "source": [
    "elo_rolling_info = elo_rolling_info.sort_values([\"team_api_id\", \"match_date\"])"
   ]
  },
  {
   "cell_type": "code",
   "execution_count": 252,
   "metadata": {},
   "outputs": [],
   "source": [
    "for i in [1, 3, 5, 10, 20, 30, 60, 90]:\n",
    "    elo_rolling_info[f\"avg_elo_last_{i}_matches\"] = elo_rolling_info.sort_values([\"team_api_id\", \"match_date\"]) \\\n",
    "                                                                    .groupby(\"team_api_id\")[\"Elo\"].shift(1).rolling(i).mean().values\n",
    "    elo_rolling_info[f\"std_elo_last_{i}_matches\"] = elo_rolling_info.sort_values([\"team_api_id\", \"match_date\"]) \\\n",
    "                                                                    .groupby(\"team_api_id\")[\"Elo\"].shift(1).rolling(i).std().values"
   ]
  },
  {
   "cell_type": "code",
   "execution_count": 259,
   "metadata": {},
   "outputs": [],
   "source": [
    "df_match_elo = df_match_elo.merge(elo_rolling_info.drop([\"Elo\"], axis = 1), how = \"left\", left_on = [\"home_team_api_id\", \"match_date\"], right_on = [\"team_api_id\", \"match_date\"])"
   ]
  },
  {
   "cell_type": "code",
   "execution_count": 260,
   "metadata": {},
   "outputs": [],
   "source": [
    "for i in [1, 3, 5, 10, 20, 30, 60, 90]:\n",
    "    df_match_elo = df_match_elo.rename(columns = {f\"avg_elo_last_{i}_matches\": f\"home_team_avg_elo_last_{i}_matches\",\n",
    "                                                  f\"std_elo_last_{i}_matches\": f\"home_team_std_elo_last_{i}_matches\"})"
   ]
  },
  {
   "cell_type": "code",
   "execution_count": 263,
   "metadata": {},
   "outputs": [],
   "source": [
    "df_match_elo = df_match_elo.merge(elo_rolling_info.drop([\"Elo\"], axis = 1), how = \"left\", left_on = [\"away_team_api_id\", \"match_date\"], right_on = [\"team_api_id\", \"match_date\"])"
   ]
  },
  {
   "cell_type": "code",
   "execution_count": 264,
   "metadata": {},
   "outputs": [],
   "source": [
    "for i in [1, 3, 5, 10, 20, 30, 60, 90]:\n",
    "    df_match_elo = df_match_elo.rename(columns = {f\"avg_elo_last_{i}_matches\": f\"away_team_avg_elo_last_{i}_matches\",\n",
    "                                                  f\"std_elo_last_{i}_matches\": f\"away_team_std_elo_last_{i}_matches\"})"
   ]
  },
  {
   "cell_type": "code",
   "execution_count": 268,
   "metadata": {},
   "outputs": [],
   "source": [
    "df_match_elo = df_match_elo.drop([\"match_date\", \"home_team_api_id\", \"away_team_api_id\", \"home_elo\", \"away_elo\", \"team_api_id_x\", \"team_api_id_y\"], axis = 1)"
   ]
  },
  {
   "cell_type": "code",
   "execution_count": 270,
   "metadata": {},
   "outputs": [
    {
     "data": {
      "text/html": [
       "<div>\n",
       "<style scoped>\n",
       "    .dataframe tbody tr th:only-of-type {\n",
       "        vertical-align: middle;\n",
       "    }\n",
       "\n",
       "    .dataframe tbody tr th {\n",
       "        vertical-align: top;\n",
       "    }\n",
       "\n",
       "    .dataframe thead th {\n",
       "        text-align: right;\n",
       "    }\n",
       "</style>\n",
       "<table border=\"1\" class=\"dataframe\">\n",
       "  <thead>\n",
       "    <tr style=\"text-align: right;\">\n",
       "      <th></th>\n",
       "      <th>match_api_id</th>\n",
       "      <th>elo_difference</th>\n",
       "      <th>home_team_avg_elo_last_1_matches</th>\n",
       "      <th>home_team_std_elo_last_1_matches</th>\n",
       "      <th>home_team_avg_elo_last_3_matches</th>\n",
       "      <th>home_team_std_elo_last_3_matches</th>\n",
       "      <th>home_team_avg_elo_last_5_matches</th>\n",
       "      <th>home_team_std_elo_last_5_matches</th>\n",
       "      <th>home_team_avg_elo_last_10_matches</th>\n",
       "      <th>home_team_std_elo_last_10_matches</th>\n",
       "      <th>home_team_avg_elo_last_20_matches</th>\n",
       "      <th>home_team_std_elo_last_20_matches</th>\n",
       "      <th>home_team_avg_elo_last_30_matches</th>\n",
       "      <th>home_team_std_elo_last_30_matches</th>\n",
       "      <th>home_team_avg_elo_last_60_matches</th>\n",
       "      <th>home_team_std_elo_last_60_matches</th>\n",
       "      <th>home_team_avg_elo_last_90_matches</th>\n",
       "      <th>home_team_std_elo_last_90_matches</th>\n",
       "      <th>away_team_avg_elo_last_1_matches</th>\n",
       "      <th>away_team_std_elo_last_1_matches</th>\n",
       "      <th>away_team_avg_elo_last_3_matches</th>\n",
       "      <th>away_team_std_elo_last_3_matches</th>\n",
       "      <th>away_team_avg_elo_last_5_matches</th>\n",
       "      <th>away_team_std_elo_last_5_matches</th>\n",
       "      <th>away_team_avg_elo_last_10_matches</th>\n",
       "      <th>away_team_std_elo_last_10_matches</th>\n",
       "      <th>away_team_avg_elo_last_20_matches</th>\n",
       "      <th>away_team_std_elo_last_20_matches</th>\n",
       "      <th>away_team_avg_elo_last_30_matches</th>\n",
       "      <th>away_team_std_elo_last_30_matches</th>\n",
       "      <th>away_team_avg_elo_last_60_matches</th>\n",
       "      <th>away_team_std_elo_last_60_matches</th>\n",
       "      <th>away_team_avg_elo_last_90_matches</th>\n",
       "      <th>away_team_std_elo_last_90_matches</th>\n",
       "    </tr>\n",
       "  </thead>\n",
       "  <tbody>\n",
       "    <tr>\n",
       "      <th>0</th>\n",
       "      <td>492473</td>\n",
       "      <td>-18.743896</td>\n",
       "      <td>1443.587769</td>\n",
       "      <td>NaN</td>\n",
       "      <td>1442.109660</td>\n",
       "      <td>1.324674</td>\n",
       "      <td>1441.677710</td>\n",
       "      <td>1.107800</td>\n",
       "      <td>1444.254285</td>\n",
       "      <td>4.062424</td>\n",
       "      <td>NaN</td>\n",
       "      <td>NaN</td>\n",
       "      <td>NaN</td>\n",
       "      <td>NaN</td>\n",
       "      <td>NaN</td>\n",
       "      <td>NaN</td>\n",
       "      <td>NaN</td>\n",
       "      <td>NaN</td>\n",
       "      <td>1462.331665</td>\n",
       "      <td>NaN</td>\n",
       "      <td>1460.853556</td>\n",
       "      <td>1.324674</td>\n",
       "      <td>1460.421606</td>\n",
       "      <td>1.107800</td>\n",
       "      <td>1462.998193</td>\n",
       "      <td>4.062455</td>\n",
       "      <td>NaN</td>\n",
       "      <td>NaN</td>\n",
       "      <td>NaN</td>\n",
       "      <td>NaN</td>\n",
       "      <td>NaN</td>\n",
       "      <td>NaN</td>\n",
       "      <td>NaN</td>\n",
       "      <td>NaN</td>\n",
       "    </tr>\n",
       "    <tr>\n",
       "      <th>1</th>\n",
       "      <td>492474</td>\n",
       "      <td>9.583740</td>\n",
       "      <td>1383.398315</td>\n",
       "      <td>NaN</td>\n",
       "      <td>1382.943888</td>\n",
       "      <td>0.393545</td>\n",
       "      <td>1382.853003</td>\n",
       "      <td>0.304839</td>\n",
       "      <td>1386.924109</td>\n",
       "      <td>4.970817</td>\n",
       "      <td>NaN</td>\n",
       "      <td>NaN</td>\n",
       "      <td>NaN</td>\n",
       "      <td>NaN</td>\n",
       "      <td>NaN</td>\n",
       "      <td>NaN</td>\n",
       "      <td>NaN</td>\n",
       "      <td>NaN</td>\n",
       "      <td>1373.814697</td>\n",
       "      <td>NaN</td>\n",
       "      <td>1373.360270</td>\n",
       "      <td>0.393545</td>\n",
       "      <td>1373.269385</td>\n",
       "      <td>0.304839</td>\n",
       "      <td>1377.340466</td>\n",
       "      <td>4.970773</td>\n",
       "      <td>NaN</td>\n",
       "      <td>NaN</td>\n",
       "      <td>NaN</td>\n",
       "      <td>NaN</td>\n",
       "      <td>NaN</td>\n",
       "      <td>NaN</td>\n",
       "      <td>NaN</td>\n",
       "      <td>NaN</td>\n",
       "    </tr>\n",
       "    <tr>\n",
       "      <th>2</th>\n",
       "      <td>492475</td>\n",
       "      <td>-131.862183</td>\n",
       "      <td>1467.186279</td>\n",
       "      <td>NaN</td>\n",
       "      <td>1466.731852</td>\n",
       "      <td>0.393545</td>\n",
       "      <td>1466.640967</td>\n",
       "      <td>0.304839</td>\n",
       "      <td>1470.712048</td>\n",
       "      <td>4.970773</td>\n",
       "      <td>NaN</td>\n",
       "      <td>NaN</td>\n",
       "      <td>NaN</td>\n",
       "      <td>NaN</td>\n",
       "      <td>NaN</td>\n",
       "      <td>NaN</td>\n",
       "      <td>NaN</td>\n",
       "      <td>NaN</td>\n",
       "      <td>1599.048462</td>\n",
       "      <td>NaN</td>\n",
       "      <td>1598.594035</td>\n",
       "      <td>0.393545</td>\n",
       "      <td>1598.503149</td>\n",
       "      <td>0.304839</td>\n",
       "      <td>1610.064929</td>\n",
       "      <td>14.062292</td>\n",
       "      <td>NaN</td>\n",
       "      <td>NaN</td>\n",
       "      <td>NaN</td>\n",
       "      <td>NaN</td>\n",
       "      <td>NaN</td>\n",
       "      <td>NaN</td>\n",
       "      <td>NaN</td>\n",
       "      <td>NaN</td>\n",
       "    </tr>\n",
       "    <tr>\n",
       "      <th>3</th>\n",
       "      <td>492476</td>\n",
       "      <td>99.138428</td>\n",
       "      <td>1471.177368</td>\n",
       "      <td>NaN</td>\n",
       "      <td>1467.407023</td>\n",
       "      <td>3.282954</td>\n",
       "      <td>1466.516626</td>\n",
       "      <td>2.622099</td>\n",
       "      <td>1468.749377</td>\n",
       "      <td>4.144453</td>\n",
       "      <td>NaN</td>\n",
       "      <td>NaN</td>\n",
       "      <td>NaN</td>\n",
       "      <td>NaN</td>\n",
       "      <td>NaN</td>\n",
       "      <td>NaN</td>\n",
       "      <td>NaN</td>\n",
       "      <td>NaN</td>\n",
       "      <td>1372.038940</td>\n",
       "      <td>NaN</td>\n",
       "      <td>1370.560832</td>\n",
       "      <td>1.324674</td>\n",
       "      <td>1370.128882</td>\n",
       "      <td>1.107800</td>\n",
       "      <td>1372.705457</td>\n",
       "      <td>4.062424</td>\n",
       "      <td>NaN</td>\n",
       "      <td>NaN</td>\n",
       "      <td>NaN</td>\n",
       "      <td>NaN</td>\n",
       "      <td>NaN</td>\n",
       "      <td>NaN</td>\n",
       "      <td>NaN</td>\n",
       "      <td>NaN</td>\n",
       "    </tr>\n",
       "    <tr>\n",
       "      <th>4</th>\n",
       "      <td>492478</td>\n",
       "      <td>-177.345459</td>\n",
       "      <td>1331.437012</td>\n",
       "      <td>NaN</td>\n",
       "      <td>1326.942546</td>\n",
       "      <td>7.784644</td>\n",
       "      <td>1322.007324</td>\n",
       "      <td>9.031994</td>\n",
       "      <td>1318.257568</td>\n",
       "      <td>7.304012</td>\n",
       "      <td>1329.887677</td>\n",
       "      <td>13.982247</td>\n",
       "      <td>1336.534269</td>\n",
       "      <td>15.118325</td>\n",
       "      <td>NaN</td>\n",
       "      <td>NaN</td>\n",
       "      <td>NaN</td>\n",
       "      <td>NaN</td>\n",
       "      <td>1508.782471</td>\n",
       "      <td>NaN</td>\n",
       "      <td>1502.902832</td>\n",
       "      <td>5.091916</td>\n",
       "      <td>1499.274072</td>\n",
       "      <td>7.513642</td>\n",
       "      <td>1496.358435</td>\n",
       "      <td>6.254508</td>\n",
       "      <td>1496.439099</td>\n",
       "      <td>4.995854</td>\n",
       "      <td>1498.021908</td>\n",
       "      <td>5.532603</td>\n",
       "      <td>NaN</td>\n",
       "      <td>NaN</td>\n",
       "      <td>NaN</td>\n",
       "      <td>NaN</td>\n",
       "    </tr>\n",
       "    <tr>\n",
       "      <th>...</th>\n",
       "      <td>...</td>\n",
       "      <td>...</td>\n",
       "      <td>...</td>\n",
       "      <td>...</td>\n",
       "      <td>...</td>\n",
       "      <td>...</td>\n",
       "      <td>...</td>\n",
       "      <td>...</td>\n",
       "      <td>...</td>\n",
       "      <td>...</td>\n",
       "      <td>...</td>\n",
       "      <td>...</td>\n",
       "      <td>...</td>\n",
       "      <td>...</td>\n",
       "      <td>...</td>\n",
       "      <td>...</td>\n",
       "      <td>...</td>\n",
       "      <td>...</td>\n",
       "      <td>...</td>\n",
       "      <td>...</td>\n",
       "      <td>...</td>\n",
       "      <td>...</td>\n",
       "      <td>...</td>\n",
       "      <td>...</td>\n",
       "      <td>...</td>\n",
       "      <td>...</td>\n",
       "      <td>...</td>\n",
       "      <td>...</td>\n",
       "      <td>...</td>\n",
       "      <td>...</td>\n",
       "      <td>...</td>\n",
       "      <td>...</td>\n",
       "      <td>...</td>\n",
       "      <td>...</td>\n",
       "    </tr>\n",
       "    <tr>\n",
       "      <th>25624</th>\n",
       "      <td>506683</td>\n",
       "      <td>143.998901</td>\n",
       "      <td>1343.611572</td>\n",
       "      <td>NaN</td>\n",
       "      <td>1344.436035</td>\n",
       "      <td>1.428012</td>\n",
       "      <td>1345.095605</td>\n",
       "      <td>1.354731</td>\n",
       "      <td>1345.380432</td>\n",
       "      <td>1.138978</td>\n",
       "      <td>1346.061859</td>\n",
       "      <td>1.161544</td>\n",
       "      <td>1346.475037</td>\n",
       "      <td>1.112274</td>\n",
       "      <td>1346.788143</td>\n",
       "      <td>1.139500</td>\n",
       "      <td>1341.886538</td>\n",
       "      <td>7.693840</td>\n",
       "      <td>NaN</td>\n",
       "      <td>NaN</td>\n",
       "      <td>NaN</td>\n",
       "      <td>NaN</td>\n",
       "      <td>NaN</td>\n",
       "      <td>NaN</td>\n",
       "      <td>NaN</td>\n",
       "      <td>NaN</td>\n",
       "      <td>NaN</td>\n",
       "      <td>NaN</td>\n",
       "      <td>NaN</td>\n",
       "      <td>NaN</td>\n",
       "      <td>NaN</td>\n",
       "      <td>NaN</td>\n",
       "      <td>NaN</td>\n",
       "      <td>NaN</td>\n",
       "    </tr>\n",
       "    <tr>\n",
       "      <th>25625</th>\n",
       "      <td>506697</td>\n",
       "      <td>68.466553</td>\n",
       "      <td>1268.079224</td>\n",
       "      <td>NaN</td>\n",
       "      <td>1268.079224</td>\n",
       "      <td>0.000000</td>\n",
       "      <td>1267.240454</td>\n",
       "      <td>1.148532</td>\n",
       "      <td>1262.945789</td>\n",
       "      <td>6.402012</td>\n",
       "      <td>1257.423682</td>\n",
       "      <td>8.081155</td>\n",
       "      <td>1253.740869</td>\n",
       "      <td>8.425476</td>\n",
       "      <td>1250.267346</td>\n",
       "      <td>6.867502</td>\n",
       "      <td>1249.442734</td>\n",
       "      <td>6.745897</td>\n",
       "      <td>NaN</td>\n",
       "      <td>NaN</td>\n",
       "      <td>NaN</td>\n",
       "      <td>NaN</td>\n",
       "      <td>NaN</td>\n",
       "      <td>NaN</td>\n",
       "      <td>NaN</td>\n",
       "      <td>NaN</td>\n",
       "      <td>NaN</td>\n",
       "      <td>NaN</td>\n",
       "      <td>NaN</td>\n",
       "      <td>NaN</td>\n",
       "      <td>NaN</td>\n",
       "      <td>NaN</td>\n",
       "      <td>NaN</td>\n",
       "      <td>NaN</td>\n",
       "    </tr>\n",
       "    <tr>\n",
       "      <th>25626</th>\n",
       "      <td>506712</td>\n",
       "      <td>315.905884</td>\n",
       "      <td>1515.518555</td>\n",
       "      <td>NaN</td>\n",
       "      <td>1514.165568</td>\n",
       "      <td>2.343442</td>\n",
       "      <td>1513.083179</td>\n",
       "      <td>2.223184</td>\n",
       "      <td>1512.841760</td>\n",
       "      <td>1.656324</td>\n",
       "      <td>1518.017987</td>\n",
       "      <td>6.141389</td>\n",
       "      <td>1519.505819</td>\n",
       "      <td>5.653916</td>\n",
       "      <td>1523.068176</td>\n",
       "      <td>5.387709</td>\n",
       "      <td>1521.553478</td>\n",
       "      <td>7.638267</td>\n",
       "      <td>NaN</td>\n",
       "      <td>NaN</td>\n",
       "      <td>NaN</td>\n",
       "      <td>NaN</td>\n",
       "      <td>NaN</td>\n",
       "      <td>NaN</td>\n",
       "      <td>NaN</td>\n",
       "      <td>NaN</td>\n",
       "      <td>NaN</td>\n",
       "      <td>NaN</td>\n",
       "      <td>NaN</td>\n",
       "      <td>NaN</td>\n",
       "      <td>NaN</td>\n",
       "      <td>NaN</td>\n",
       "      <td>NaN</td>\n",
       "      <td>NaN</td>\n",
       "    </tr>\n",
       "    <tr>\n",
       "      <th>25627</th>\n",
       "      <td>506730</td>\n",
       "      <td>301.601074</td>\n",
       "      <td>1501.213745</td>\n",
       "      <td>NaN</td>\n",
       "      <td>1502.005208</td>\n",
       "      <td>1.370855</td>\n",
       "      <td>1502.638379</td>\n",
       "      <td>1.300507</td>\n",
       "      <td>1503.113257</td>\n",
       "      <td>1.001131</td>\n",
       "      <td>1500.035645</td>\n",
       "      <td>3.907609</td>\n",
       "      <td>1499.129964</td>\n",
       "      <td>5.309604</td>\n",
       "      <td>1504.506095</td>\n",
       "      <td>6.778629</td>\n",
       "      <td>1506.834241</td>\n",
       "      <td>6.466452</td>\n",
       "      <td>NaN</td>\n",
       "      <td>NaN</td>\n",
       "      <td>NaN</td>\n",
       "      <td>NaN</td>\n",
       "      <td>NaN</td>\n",
       "      <td>NaN</td>\n",
       "      <td>NaN</td>\n",
       "      <td>NaN</td>\n",
       "      <td>NaN</td>\n",
       "      <td>NaN</td>\n",
       "      <td>NaN</td>\n",
       "      <td>NaN</td>\n",
       "      <td>NaN</td>\n",
       "      <td>NaN</td>\n",
       "      <td>NaN</td>\n",
       "      <td>NaN</td>\n",
       "    </tr>\n",
       "    <tr>\n",
       "      <th>25628</th>\n",
       "      <td>506752</td>\n",
       "      <td>78.508667</td>\n",
       "      <td>1278.121338</td>\n",
       "      <td>NaN</td>\n",
       "      <td>1278.121338</td>\n",
       "      <td>0.000000</td>\n",
       "      <td>1274.224854</td>\n",
       "      <td>5.335481</td>\n",
       "      <td>1272.146313</td>\n",
       "      <td>4.302022</td>\n",
       "      <td>1269.433453</td>\n",
       "      <td>4.856444</td>\n",
       "      <td>1271.037667</td>\n",
       "      <td>4.883669</td>\n",
       "      <td>1281.986029</td>\n",
       "      <td>12.858604</td>\n",
       "      <td>1290.397424</td>\n",
       "      <td>15.896633</td>\n",
       "      <td>NaN</td>\n",
       "      <td>NaN</td>\n",
       "      <td>NaN</td>\n",
       "      <td>NaN</td>\n",
       "      <td>NaN</td>\n",
       "      <td>NaN</td>\n",
       "      <td>NaN</td>\n",
       "      <td>NaN</td>\n",
       "      <td>NaN</td>\n",
       "      <td>NaN</td>\n",
       "      <td>NaN</td>\n",
       "      <td>NaN</td>\n",
       "      <td>NaN</td>\n",
       "      <td>NaN</td>\n",
       "      <td>NaN</td>\n",
       "      <td>NaN</td>\n",
       "    </tr>\n",
       "  </tbody>\n",
       "</table>\n",
       "<p>25629 rows × 34 columns</p>\n",
       "</div>"
      ],
      "text/plain": [
       "       match_api_id  elo_difference  home_team_avg_elo_last_1_matches  \\\n",
       "0            492473      -18.743896                       1443.587769   \n",
       "1            492474        9.583740                       1383.398315   \n",
       "2            492475     -131.862183                       1467.186279   \n",
       "3            492476       99.138428                       1471.177368   \n",
       "4            492478     -177.345459                       1331.437012   \n",
       "...             ...             ...                               ...   \n",
       "25624        506683      143.998901                       1343.611572   \n",
       "25625        506697       68.466553                       1268.079224   \n",
       "25626        506712      315.905884                       1515.518555   \n",
       "25627        506730      301.601074                       1501.213745   \n",
       "25628        506752       78.508667                       1278.121338   \n",
       "\n",
       "       home_team_std_elo_last_1_matches  home_team_avg_elo_last_3_matches  \\\n",
       "0                                   NaN                       1442.109660   \n",
       "1                                   NaN                       1382.943888   \n",
       "2                                   NaN                       1466.731852   \n",
       "3                                   NaN                       1467.407023   \n",
       "4                                   NaN                       1326.942546   \n",
       "...                                 ...                               ...   \n",
       "25624                               NaN                       1344.436035   \n",
       "25625                               NaN                       1268.079224   \n",
       "25626                               NaN                       1514.165568   \n",
       "25627                               NaN                       1502.005208   \n",
       "25628                               NaN                       1278.121338   \n",
       "\n",
       "       home_team_std_elo_last_3_matches  home_team_avg_elo_last_5_matches  \\\n",
       "0                              1.324674                       1441.677710   \n",
       "1                              0.393545                       1382.853003   \n",
       "2                              0.393545                       1466.640967   \n",
       "3                              3.282954                       1466.516626   \n",
       "4                              7.784644                       1322.007324   \n",
       "...                                 ...                               ...   \n",
       "25624                          1.428012                       1345.095605   \n",
       "25625                          0.000000                       1267.240454   \n",
       "25626                          2.343442                       1513.083179   \n",
       "25627                          1.370855                       1502.638379   \n",
       "25628                          0.000000                       1274.224854   \n",
       "\n",
       "       home_team_std_elo_last_5_matches  home_team_avg_elo_last_10_matches  \\\n",
       "0                              1.107800                        1444.254285   \n",
       "1                              0.304839                        1386.924109   \n",
       "2                              0.304839                        1470.712048   \n",
       "3                              2.622099                        1468.749377   \n",
       "4                              9.031994                        1318.257568   \n",
       "...                                 ...                                ...   \n",
       "25624                          1.354731                        1345.380432   \n",
       "25625                          1.148532                        1262.945789   \n",
       "25626                          2.223184                        1512.841760   \n",
       "25627                          1.300507                        1503.113257   \n",
       "25628                          5.335481                        1272.146313   \n",
       "\n",
       "       home_team_std_elo_last_10_matches  home_team_avg_elo_last_20_matches  \\\n",
       "0                               4.062424                                NaN   \n",
       "1                               4.970817                                NaN   \n",
       "2                               4.970773                                NaN   \n",
       "3                               4.144453                                NaN   \n",
       "4                               7.304012                        1329.887677   \n",
       "...                                  ...                                ...   \n",
       "25624                           1.138978                        1346.061859   \n",
       "25625                           6.402012                        1257.423682   \n",
       "25626                           1.656324                        1518.017987   \n",
       "25627                           1.001131                        1500.035645   \n",
       "25628                           4.302022                        1269.433453   \n",
       "\n",
       "       home_team_std_elo_last_20_matches  home_team_avg_elo_last_30_matches  \\\n",
       "0                                    NaN                                NaN   \n",
       "1                                    NaN                                NaN   \n",
       "2                                    NaN                                NaN   \n",
       "3                                    NaN                                NaN   \n",
       "4                              13.982247                        1336.534269   \n",
       "...                                  ...                                ...   \n",
       "25624                           1.161544                        1346.475037   \n",
       "25625                           8.081155                        1253.740869   \n",
       "25626                           6.141389                        1519.505819   \n",
       "25627                           3.907609                        1499.129964   \n",
       "25628                           4.856444                        1271.037667   \n",
       "\n",
       "       home_team_std_elo_last_30_matches  home_team_avg_elo_last_60_matches  \\\n",
       "0                                    NaN                                NaN   \n",
       "1                                    NaN                                NaN   \n",
       "2                                    NaN                                NaN   \n",
       "3                                    NaN                                NaN   \n",
       "4                              15.118325                                NaN   \n",
       "...                                  ...                                ...   \n",
       "25624                           1.112274                        1346.788143   \n",
       "25625                           8.425476                        1250.267346   \n",
       "25626                           5.653916                        1523.068176   \n",
       "25627                           5.309604                        1504.506095   \n",
       "25628                           4.883669                        1281.986029   \n",
       "\n",
       "       home_team_std_elo_last_60_matches  home_team_avg_elo_last_90_matches  \\\n",
       "0                                    NaN                                NaN   \n",
       "1                                    NaN                                NaN   \n",
       "2                                    NaN                                NaN   \n",
       "3                                    NaN                                NaN   \n",
       "4                                    NaN                                NaN   \n",
       "...                                  ...                                ...   \n",
       "25624                           1.139500                        1341.886538   \n",
       "25625                           6.867502                        1249.442734   \n",
       "25626                           5.387709                        1521.553478   \n",
       "25627                           6.778629                        1506.834241   \n",
       "25628                          12.858604                        1290.397424   \n",
       "\n",
       "       home_team_std_elo_last_90_matches  away_team_avg_elo_last_1_matches  \\\n",
       "0                                    NaN                       1462.331665   \n",
       "1                                    NaN                       1373.814697   \n",
       "2                                    NaN                       1599.048462   \n",
       "3                                    NaN                       1372.038940   \n",
       "4                                    NaN                       1508.782471   \n",
       "...                                  ...                               ...   \n",
       "25624                           7.693840                               NaN   \n",
       "25625                           6.745897                               NaN   \n",
       "25626                           7.638267                               NaN   \n",
       "25627                           6.466452                               NaN   \n",
       "25628                          15.896633                               NaN   \n",
       "\n",
       "       away_team_std_elo_last_1_matches  away_team_avg_elo_last_3_matches  \\\n",
       "0                                   NaN                       1460.853556   \n",
       "1                                   NaN                       1373.360270   \n",
       "2                                   NaN                       1598.594035   \n",
       "3                                   NaN                       1370.560832   \n",
       "4                                   NaN                       1502.902832   \n",
       "...                                 ...                               ...   \n",
       "25624                               NaN                               NaN   \n",
       "25625                               NaN                               NaN   \n",
       "25626                               NaN                               NaN   \n",
       "25627                               NaN                               NaN   \n",
       "25628                               NaN                               NaN   \n",
       "\n",
       "       away_team_std_elo_last_3_matches  away_team_avg_elo_last_5_matches  \\\n",
       "0                              1.324674                       1460.421606   \n",
       "1                              0.393545                       1373.269385   \n",
       "2                              0.393545                       1598.503149   \n",
       "3                              1.324674                       1370.128882   \n",
       "4                              5.091916                       1499.274072   \n",
       "...                                 ...                               ...   \n",
       "25624                               NaN                               NaN   \n",
       "25625                               NaN                               NaN   \n",
       "25626                               NaN                               NaN   \n",
       "25627                               NaN                               NaN   \n",
       "25628                               NaN                               NaN   \n",
       "\n",
       "       away_team_std_elo_last_5_matches  away_team_avg_elo_last_10_matches  \\\n",
       "0                              1.107800                        1462.998193   \n",
       "1                              0.304839                        1377.340466   \n",
       "2                              0.304839                        1610.064929   \n",
       "3                              1.107800                        1372.705457   \n",
       "4                              7.513642                        1496.358435   \n",
       "...                                 ...                                ...   \n",
       "25624                               NaN                                NaN   \n",
       "25625                               NaN                                NaN   \n",
       "25626                               NaN                                NaN   \n",
       "25627                               NaN                                NaN   \n",
       "25628                               NaN                                NaN   \n",
       "\n",
       "       away_team_std_elo_last_10_matches  away_team_avg_elo_last_20_matches  \\\n",
       "0                               4.062455                                NaN   \n",
       "1                               4.970773                                NaN   \n",
       "2                              14.062292                                NaN   \n",
       "3                               4.062424                                NaN   \n",
       "4                               6.254508                        1496.439099   \n",
       "...                                  ...                                ...   \n",
       "25624                                NaN                                NaN   \n",
       "25625                                NaN                                NaN   \n",
       "25626                                NaN                                NaN   \n",
       "25627                                NaN                                NaN   \n",
       "25628                                NaN                                NaN   \n",
       "\n",
       "       away_team_std_elo_last_20_matches  away_team_avg_elo_last_30_matches  \\\n",
       "0                                    NaN                                NaN   \n",
       "1                                    NaN                                NaN   \n",
       "2                                    NaN                                NaN   \n",
       "3                                    NaN                                NaN   \n",
       "4                               4.995854                        1498.021908   \n",
       "...                                  ...                                ...   \n",
       "25624                                NaN                                NaN   \n",
       "25625                                NaN                                NaN   \n",
       "25626                                NaN                                NaN   \n",
       "25627                                NaN                                NaN   \n",
       "25628                                NaN                                NaN   \n",
       "\n",
       "       away_team_std_elo_last_30_matches  away_team_avg_elo_last_60_matches  \\\n",
       "0                                    NaN                                NaN   \n",
       "1                                    NaN                                NaN   \n",
       "2                                    NaN                                NaN   \n",
       "3                                    NaN                                NaN   \n",
       "4                               5.532603                                NaN   \n",
       "...                                  ...                                ...   \n",
       "25624                                NaN                                NaN   \n",
       "25625                                NaN                                NaN   \n",
       "25626                                NaN                                NaN   \n",
       "25627                                NaN                                NaN   \n",
       "25628                                NaN                                NaN   \n",
       "\n",
       "       away_team_std_elo_last_60_matches  away_team_avg_elo_last_90_matches  \\\n",
       "0                                    NaN                                NaN   \n",
       "1                                    NaN                                NaN   \n",
       "2                                    NaN                                NaN   \n",
       "3                                    NaN                                NaN   \n",
       "4                                    NaN                                NaN   \n",
       "...                                  ...                                ...   \n",
       "25624                                NaN                                NaN   \n",
       "25625                                NaN                                NaN   \n",
       "25626                                NaN                                NaN   \n",
       "25627                                NaN                                NaN   \n",
       "25628                                NaN                                NaN   \n",
       "\n",
       "       away_team_std_elo_last_90_matches  \n",
       "0                                    NaN  \n",
       "1                                    NaN  \n",
       "2                                    NaN  \n",
       "3                                    NaN  \n",
       "4                                    NaN  \n",
       "...                                  ...  \n",
       "25624                                NaN  \n",
       "25625                                NaN  \n",
       "25626                                NaN  \n",
       "25627                                NaN  \n",
       "25628                                NaN  \n",
       "\n",
       "[25629 rows x 34 columns]"
      ]
     },
     "execution_count": 270,
     "metadata": {},
     "output_type": "execute_result"
    }
   ],
   "source": [
    "df_match_elo"
   ]
  },
  {
   "attachments": {},
   "cell_type": "markdown",
   "metadata": {},
   "source": [
    "- Save the table."
   ]
  },
  {
   "cell_type": "code",
   "execution_count": 269,
   "metadata": {},
   "outputs": [],
   "source": [
    "df_match_elo.to_csv(\"../data/df_match_elo.csv\", index = False)"
   ]
  },
  {
   "attachments": {},
   "cell_type": "markdown",
   "metadata": {},
   "source": [
    "## 4. Summary"
   ]
  },
  {
   "attachments": {},
   "cell_type": "markdown",
   "metadata": {},
   "source": [
    "- Create the elo difference variable (Home team Elo - Away team Elo)\n",
    "- Create variables to identify changes in each team's mid-term and long-term Elo ratings:\n",
    "    - each team's last 1 / 3 / 5 / 10 / 20 / 30 / 60 / 90 matches    \n",
    "        - average Elo rating\n",
    "        - standard deviation of Elo rating"
   ]
  },
  {
   "attachments": {},
   "cell_type": "markdown",
   "metadata": {},
   "source": [
    "![4.summary](../images/df_match_elo.png)"
   ]
  },
  {
   "cell_type": "markdown",
   "metadata": {},
   "source": []
  }
 ],
 "metadata": {
  "kernelspec": {
   "display_name": "data_analysis_venv",
   "language": "python",
   "name": "python3"
  },
  "language_info": {
   "codemirror_mode": {
    "name": "ipython",
    "version": 3
   },
   "file_extension": ".py",
   "mimetype": "text/x-python",
   "name": "python",
   "nbconvert_exporter": "python",
   "pygments_lexer": "ipython3",
   "version": "3.10.9"
  },
  "orig_nbformat": 4,
  "vscode": {
   "interpreter": {
    "hash": "3e02e73bf84267195e0a5d7a47b491df6b046c523c3732dc59015fd9619ea8ca"
   }
  }
 },
 "nbformat": 4,
 "nbformat_minor": 2
}
